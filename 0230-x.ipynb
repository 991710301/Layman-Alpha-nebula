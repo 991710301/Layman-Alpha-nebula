{
 "cells": [
  {
   "cell_type": "code",
   "execution_count": 1,
   "metadata": {},
   "outputs": [],
   "source": [
    "import csv\n",
    "import re\n",
    "import pandas as pd\n",
    "import numpy as np\n",
    "import math\n",
    "import astropy.units as u\n",
    "import matplotlib.pyplot as plt\n",
    "from astropy.coordinates import SkyCoord\n",
    "from astropy.coordinates import Angle\n",
    "from astropy.stats import sigma_clip\n",
    "from astropy.io import fits\n",
    "from astropy.nddata import Cutout2D\n",
    "from astropy.wcs import WCS\n",
    "from astropy.nddata import Cutout2D\n",
    "from astropy.convolution import convolve, Gaussian2DKernel\n",
    "import astropy.constants as const\n",
    "from matplotlib import colors\n",
    "import matplotlib.cm as cm\n",
    "import scipy.misc\n",
    "import scipy.stats as sta\n",
    "from matplotlib.colors import LogNorm\n",
    "from astropy.visualization import ZScaleInterval,LinearStretch,ImageNormalize\n",
    "get_ipython().magic('matplotlib inline')\n",
    "import plotly.graph_objects as go\n",
    "import plotly\n",
    "from astropy.cosmology import WMAP9 as cosmo\n",
    "from pandas.core.frame import DataFrame\n",
    "from scipy.optimize import curve_fit\n",
    "from scipy import integrate\n",
    "import os\n",
    "\n",
    "#1pixel=0.25arcsec"
   ]
  },
  {
   "cell_type": "code",
   "execution_count": 2,
   "metadata": {},
   "outputs": [],
   "source": [
    "def Scaleimgconverter(img):\n",
    "    norm=ImageNormalize(img,interval=ZScaleInterval(),stretch=LinearStretch())\n",
    "    return norm\n",
    "#绘制天区图像用\n",
    "\n",
    "def calculate_flux_per_frequency(mag):\n",
    "    flux_density=10**((48.6+mag)/(-2.5))\n",
    "    return flux_density\n",
    "\n",
    "def calculate_flux_per_wavelength(mag,corresponding_lambda):\n",
    "    flux_density=10**((48.6+mag)/(-2.5))\n",
    "    intensity=(flux_density*3e8*1e10)/(corresponding_lambda**2)\n",
    "    return intensity\n",
    "\n",
    "def calculate_flux(mag,corresponding_lambda,delta_lambda):\n",
    "    flux_density=10**((48.6+mag)/(-2.5))\n",
    "    intensity=(flux_density*3e8*1e10)/(corresponding_lambda**2)\n",
    "    flux=intensity*delta_lambda\n",
    "    return flux\n",
    "\n",
    "def calculate_distance(redshift):\n",
    "    distance=redshift*3e5/70\n",
    "    distance=distance*9.4607e17\n",
    "    distance=distance*3.2616e6\n",
    "    return(distance)\n",
    "\n",
    "def calculate_continuum_flux_density(flux_bw,flux_nb,delta_lambda_bw,delta_lambda_nb):\n",
    "    continuum_flux_density=(flux_bw-flux_nb)/(delta_lambda_bw-delta_lambda_nb)\n",
    "    return continuum_flux_density\n",
    "\n",
    "def calculate_continuum_subtracted_line_flux(flux_bw,flux_nb,delta_lambda_bw,delta_lambda_nb):\n",
    "    continuum_flux_density=(flux_bw-flux_nb)/(delta_lambda_bw-delta_lambda_nb)\n",
    "    continuum_subtracted_line_flux=flux_nb-continuum_flux_density*delta_lambda_nb\n",
    "    return continuum_subtracted_line_flux\n",
    "\n",
    "def calculate_SB(mag,corresponding_lambda,delta_lambda,area):\n",
    "    flux_density=10**((48.6+mag)/(-2.5))\n",
    "    intensity=(flux_density*3e8*1e10)/(corresponding_lambda**2)\n",
    "    flux=intensity*delta_lambda\n",
    "    surface_brightness=flux/(area*0.25*0.25)\n",
    "    return surface_brightness\n",
    "    \n",
    "# unit： erg per second per quare centimeter per suqare arcsec\n",
    "\n",
    "def choose(img,x,y,thresholds,lenth):\n",
    "    x = x.astype(int)\n",
    "    y = y.astype(int)\n",
    "    img = img[(y - lenth):(y + lenth), (x - lenth):(x + lenth)]\n",
    "    for j in range(len(img)):\n",
    "        for i in range(len(img[0])):\n",
    "            if img[j][i]<thresholds:\n",
    "                return False\n",
    "    return True\n",
    "\n",
    "def wrong_choose(img,x,y,thresholds,lenth):\n",
    "    x = x.astype(int)\n",
    "    y = y.astype(int)\n",
    "    img = img[(y - lenth):(y + lenth), (x - lenth):(x + lenth)]\n",
    "    for j in range(len(img)):\n",
    "        for i in range(len(img[0])):\n",
    "            if img[j][i]<thresholds:\n",
    "                return True\n",
    "    return False"
   ]
  },
  {
   "cell_type": "code",
   "execution_count": 3,
   "metadata": {},
   "outputs": [],
   "source": [
    "def show_nebula(img1,img2,img3,x,y,size):\n",
    "    norm1 = Scaleimgconverter(img1)\n",
    "    norm2 = Scaleimgconverter(img2)\n",
    "    norm3 = Scaleimgconverter(img3)\n",
    "    center=[np.array([x],float),np.array([y],float)]\n",
    "    cutout1=Cutout2D(data, center,30, wcs = WCS(header))\n",
    "    cutout2=Cutout2D(data2, center,30, wcs = WCS(header))\n",
    "    cutout3=Cutout2D(datacut, center,30, wcs = WCS(header))\n",
    "  \n",
    "    x = x.astype(int)\n",
    "    y = y.astype(int)\n",
    "    x1=x-size\n",
    "    x2=x+size\n",
    "    y1=y-size\n",
    "    y2=y+size\n",
    "    fig = plt.figure()\n",
    "    ax = plt.subplot(131,projection=cutout1.wcs)\n",
    "    ax.set_xlabel('RA')\n",
    "    ax.set_ylabel('Dec')\n",
    "    ax.imshow(img1[y1:y2,x1:x2],norm=norm1,cmap=plt.cm.gray)\n",
    "    ra = ax.coords[0]\n",
    "    ra.set_major_formatter('hh:mm:ss')\n",
    "    dec = ax.coords[1]\n",
    "    dec.set_major_formatter('dd:mm:ss')\n",
    "    \n",
    "    fig = plt.figure()\n",
    "    ax = plt.subplot(132,projection=cutout2.wcs)\n",
    "    ax.set_xlabel('RA')\n",
    "    ax.set_ylabel('Dec')\n",
    "    ax.imshow(img2[y1:y2,x1:x2],norm=norm2,cmap=plt.cm.gray)\n",
    "    ra = ax.coords[0]\n",
    "    ra.set_major_formatter('hh:mm:ss')\n",
    "    dec = ax.coords[1]\n",
    "    dec.set_major_formatter('dd:mm:ss')\n",
    "\n",
    "    fig = plt.figure()\n",
    "    ax = plt.subplot(133,projection=cutout3.wcs)\n",
    "    ax.set_xlabel('RA')\n",
    "    ax.set_ylabel('Dec')\n",
    "    ax.imshow(img3[y1:y2,x1:x2],norm=norm3,cmap=plt.cm.gray)\n",
    "    ra = ax.coords[0]\n",
    "    ra.set_major_formatter('hh:mm:ss')\n",
    "    dec = ax.coords[1]\n",
    "    dec.set_major_formatter('dd:mm:ss')"
   ]
  },
  {
   "cell_type": "code",
   "execution_count": 4,
   "metadata": {},
   "outputs": [],
   "source": [
    "with open(\"BOSS0230_Bw.csv\",'w+',newline='') as csvfile:\n",
    "    spamwriter = csv.writer(csvfile, dialect='excel')\n",
    "    with open('0230bw_d1.0x.cat','r',encoding = 'utf-8') as f:\n",
    "        linelist = f.readlines()[13:]\n",
    "        spamwriter.writerow(['NUMBER','X_IMAGE','Y_IMAGE','ALPHA_J2000','DELTA_J2000',\\\n",
    "                            'FLUX_APER','FLUXERR_APER','MAG_APER','MAGERR_APER','FLAGS','NITER_MODEL','ISOAREA_IMAGE','ISOAREAF_IMAGE'])\n",
    "        for line in linelist:\n",
    "            line_list = line.strip('\\n').split()\n",
    "            spamwriter.writerow(line_list)"
   ]
  },
  {
   "cell_type": "code",
   "execution_count": 5,
   "metadata": {},
   "outputs": [],
   "source": [
    "with open(\"BOSS0230_NB.csv\",'w+',newline='') as csvfile:#创建一个新的csv文件\n",
    "    spamwriter = csv.writer(csvfile, dialect='excel')\n",
    "    with open('0230nb_d1.0x.cat','r',encoding = 'utf-8') as f:#打开那个.cat文件\n",
    "        linelist = f.readlines()[13:]#从第十三行写起\n",
    "        spamwriter.writerow(['NUMBER','X_IMAGE','Y_IMAGE','ALPHA_J2000','DELTA_J2000',\\\n",
    "                            'FLUX_APER','FLUXERR_APER','MAG_APER','MAGERR_APER','FLAGS','NITER_MODEL','ISOAREA_IMAGE','ISOAREAF_IMAGE'])\n",
    "        for line in linelist:\n",
    "            line_list = line.strip('\\n').split()#split（）函数，按括号中的内容分割，strip函数，移除头尾指定的字符\n",
    "            spamwriter.writerow(line_list)"
   ]
  },
  {
   "cell_type": "code",
   "execution_count": 6,
   "metadata": {},
   "outputs": [],
   "source": [
    "SDSS6=pd.read_csv(\"SDSS6.csv\",usecols=[1,2,3,4,5,6,7,8,9,10,11,12,13,14,15,16,17,18,19,20,21,22,23,24,25])\n",
    "BOSS_Bw=pd.read_csv(\"BOSS0230_Bw.csv\",usecols=[1,2,3,4,5,6,7,8,9,10,11,12])\n",
    "#index_col=False\n",
    "BOSS_NB=pd.read_csv(\"BOSS0230_NB.csv\",usecols=[1,2,3,4,5,6,7,8,9,10,11,12])#读取哪几列"
   ]
  },
  {
   "cell_type": "code",
   "execution_count": 7,
   "metadata": {},
   "outputs": [],
   "source": [
    "SDSS6=pd.concat([SDSS6,(SDSS6['umag']-0.8116*(SDSS6['umag'] - SDSS6['gmag']) + 0.1313)],axis=1)#计算bmag\n",
    "#axis： 需要合并链接的轴，0是行，1是列 \n",
    "\n",
    "SDSS6.columns=['_RAJ2000', '_DEJ2000',  'RA_ICRS',  'DE_ICRS',     'mode',   'q_mode',\\\n",
    "          'class',   'SDSS12', 'm_SDSS!2',  'ObsDate',        'Q',     'umag',\\\n",
    "         'e_umag',     'gmag',   'e_gmag',     'rmag',   'e_rmag',     'imag',\\\n",
    "         'e_imag',     'zmag',   'e_zmag',      'zsp',      'zph',    'e_zph',\\\n",
    "          '<zph>',          'bmag']\n",
    "#bmag是到这儿才加上来的"
   ]
  },
  {
   "cell_type": "code",
   "execution_count": 8,
   "metadata": {},
   "outputs": [],
   "source": [
    "coord_sdss=SkyCoord(ra=SDSS6['_RAJ2000']*u.degree, dec=SDSS6['_DEJ2000']*u.degree)\n",
    "#不乘u.degree会报错，但为什么也不是很清楚\n",
    "coord_bw=SkyCoord(ra=BOSS_Bw['ALPHA_J2000']*u.degree, dec=BOSS_Bw['DELTA_J2000']*u.degree)\n",
    "coord_nb=SkyCoord(ra=BOSS_NB['ALPHA_J2000']*u.degree, dec=BOSS_NB['DELTA_J2000']*u.degree)"
   ]
  },
  {
   "cell_type": "code",
   "execution_count": 9,
   "metadata": {},
   "outputs": [],
   "source": [
    "idx, d2d, d3d = coord_sdss.match_to_catalog_sky(coord_bw)"
   ]
  },
  {
   "cell_type": "code",
   "execution_count": 10,
   "metadata": {},
   "outputs": [
    {
     "data": {
      "image/png": "[encoded data removed]",
      "text/plain": [
       "<Figure size 432x288 with 1 Axes>"
      ]
     },
     "metadata": {
      "needs_background": "light"
     },
     "output_type": "display_data"
    }
   ],
   "source": [
    "# separation\n",
    "plt.subplot(111)\n",
    "plt.hist(d2d.arcsec, histtype='step', range=(0,2))\n",
    "plt.xlabel('separation [arcsec]')\n",
    "plt.legend('Bw')\n",
    "plt.tight_layout()\n",
    "plt.show()"
   ]
  },
  {
   "cell_type": "code",
   "execution_count": 11,
   "metadata": {},
   "outputs": [
    {
     "name": "stderr",
     "output_type": "stream",
     "text": [
      "/Users/jiangtianxiaoyubei/anaconda3/lib/python3.7/site-packages/ipykernel_launcher.py:4: FutureWarning:\n",
      "\n",
      "Series.data is deprecated and will be removed in a future version\n",
      "\n",
      "/Users/jiangtianxiaoyubei/anaconda3/lib/python3.7/site-packages/ipykernel_launcher.py:5: FutureWarning:\n",
      "\n",
      "Series.data is deprecated and will be removed in a future version\n",
      "\n",
      "/Users/jiangtianxiaoyubei/anaconda3/lib/python3.7/site-packages/ipykernel_launcher.py:6: FutureWarning:\n",
      "\n",
      "Series.data is deprecated and will be removed in a future version\n",
      "\n",
      "/Users/jiangtianxiaoyubei/anaconda3/lib/python3.7/site-packages/ipykernel_launcher.py:7: FutureWarning:\n",
      "\n",
      "Series.data is deprecated and will be removed in a future version\n",
      "\n",
      "/Users/jiangtianxiaoyubei/anaconda3/lib/python3.7/site-packages/ipykernel_launcher.py:9: FutureWarning:\n",
      "\n",
      "Series.data is deprecated and will be removed in a future version\n",
      "\n",
      "WARNING: AstropyDeprecationWarning: \"iters\" was deprecated in version 3.1 and will be removed in a future version. Use argument \"maxiters\" instead. [warnings]\n"
     ]
    }
   ],
   "source": [
    "index = np.where((d2d < Angle('0d00m0.75s'))&(SDSS6['bmag'] < 20)&(SDSS6['bmag'] > 16.5))#把其中符合条件的摘出来，即用index来标出距离足够小的object\n",
    "idx=idx[index]#可以认为是同一个object的点的indices\n",
    "\n",
    "SDSS6_RAJ2000=SDSS6._RAJ2000.data.obj#SDSS的RA\n",
    "SDSS6_DEJ2000=SDSS6._DEJ2000.data.obj#SDSS的DEC\n",
    "SDSS6_bmag=SDSS6.bmag.data.obj#SDSS的bmag\n",
    "BOSS_Bw_list=BOSS_Bw.MAG_APER.data.obj#BOSS的Bw Mag\n",
    "\n",
    "BOSS_Bw_list_standard=BOSS_Bw.MAG_APER.data.obj[idx]#BOSS中可被认为是相同object的部分\n",
    "SDSS6_bmag_standard=SDSS6_bmag[index]#SDSS中可被认为是相同object的部分\n",
    "\n",
    "zeropoint_bw=SDSS6_bmag_standard-BOSS_Bw_list_standard\n",
    "zeropoint_bw=sigma_clip(zeropoint_bw, sigma=3, iters=10)\n",
    "\n",
    "zp_bw=np.mean(zeropoint_bw)#Bw的zeropoint\n",
    "zp_std_bw=np.std(zeropoint_bw)#Bw的standard deviation"
   ]
  },
  {
   "cell_type": "code",
   "execution_count": 12,
   "metadata": {},
   "outputs": [
    {
     "data": {
      "image/png": "[encoded data removed]",
      "text/plain": [
       "<Figure size 432x288 with 1 Axes>"
      ]
     },
     "metadata": {
      "needs_background": "light"
     },
     "output_type": "display_data"
    },
    {
     "name": "stdout",
     "output_type": "stream",
     "text": [
      "Bw的zeropoint为 26.230578554206897\n",
      "Bw的standard deviation为 0.06732675888072458\n"
     ]
    }
   ],
   "source": [
    "plt.axhline(zp_bw)\n",
    "plt.xlabel('SDSS Magnitude')\n",
    "plt.ylabel('zero point')\n",
    "plt.scatter(x=SDSS6_bmag_standard,y=zeropoint_bw,s=3)\n",
    "#plt.axis([16.5, 20.5, 24, 26])\n",
    "plt.show()\n",
    "\n",
    "print('Bw的zeropoint为',zp_bw)\n",
    "print('Bw的standard deviation为',zp_std_bw)"
   ]
  },
  {
   "cell_type": "code",
   "execution_count": 13,
   "metadata": {},
   "outputs": [],
   "source": [
    "BOSS_Bw=pd.concat([BOSS_Bw,BOSS_Bw.MAG_APER+zp_bw],axis=1)\n",
    "BOSS_Bw.columns=['X_IMAGE','Y_IMAGE','ALPHA_J2000','DELTA_J2000','FLUX_APER','FLUXERR_APER','MAG_APER','MAGERR_APER ','FLAGS','NITER_MODEL','ISOAREA_IMAGE','ISOAREAF_IMAGE','standard_mag']\n",
    "#重写Bw的dataframe，把加了zp的真实mag扔进去，新的一列就叫standard_mag"
   ]
  },
  {
   "cell_type": "code",
   "execution_count": 14,
   "metadata": {},
   "outputs": [],
   "source": [
    "idx_nb, d2d_nb, d3d_nb = coord_nb.match_to_catalog_sky(coord_bw)"
   ]
  },
  {
   "cell_type": "code",
   "execution_count": 15,
   "metadata": {},
   "outputs": [
    {
     "data": {
      "image/png": "[encoded data removed]",
      "text/plain": [
       "<Figure size 432x288 with 1 Axes>"
      ]
     },
     "metadata": {
      "needs_background": "light"
     },
     "output_type": "display_data"
    }
   ],
   "source": [
    "plt.subplot(111)\n",
    "plt.hist(d2d_nb.arcsec, histtype='step', range=(0,2))\n",
    "plt.xlabel('separation [arcsec]')\n",
    "plt.legend('NB')\n",
    "plt.tight_layout()"
   ]
  },
  {
   "cell_type": "code",
   "execution_count": 16,
   "metadata": {},
   "outputs": [],
   "source": [
    "\n",
    "index_nb = np.where(d2d_nb < Angle('0d0m02s'))\n",
    "idx_nb=idx_nb[index_nb]"
   ]
  },
  {
   "cell_type": "code",
   "execution_count": 17,
   "metadata": {},
   "outputs": [
    {
     "name": "stderr",
     "output_type": "stream",
     "text": [
      "/Users/jiangtianxiaoyubei/anaconda3/lib/python3.7/site-packages/ipykernel_launcher.py:1: FutureWarning:\n",
      "\n",
      "Series.data is deprecated and will be removed in a future version\n",
      "\n",
      "/Users/jiangtianxiaoyubei/anaconda3/lib/python3.7/site-packages/ipykernel_launcher.py:6: FutureWarning:\n",
      "\n",
      "Series.data is deprecated and will be removed in a future version\n",
      "\n"
     ]
    }
   ],
   "source": [
    "BOSS_NB_match = BOSS_NB.MAG_APER.data.obj[index_nb]\n",
    "#这是全部的可以与NB中对应成功的NB中的源的现在的nb_magnitude,包括galaxy和star\n",
    "index_zp = np.where((BOSS_NB_match < 5) &(BOSS_NB_match > 0))\n",
    "#这是全部可以用来计算zeropoint的NB的点\n",
    "\n",
    "mid=BOSS_Bw.standard_mag.data.obj[idx_nb]\n",
    "mag_bw_standard_select=mid[index_zp]#这里面写出来的则是与下面那个对应的bw中的标准的magnitude\n",
    "mag_nb_standard_select=BOSS_NB_match[index_zp]#这里面写出来是标准的nb的magnitude"
   ]
  },
  {
   "cell_type": "code",
   "execution_count": 18,
   "metadata": {},
   "outputs": [
    {
     "name": "stderr",
     "output_type": "stream",
     "text": [
      "WARNING: AstropyDeprecationWarning: \"iters\" was deprecated in version 3.1 and will be removed in a future version. Use argument \"maxiters\" instead. [warnings]\n"
     ]
    }
   ],
   "source": [
    "zeropoint_nb=mag_bw_standard_select-mag_nb_standard_select\n",
    "zeropoint_nb=sigma_clip(zeropoint_nb, sigma=1, iters=10)\n",
    "\n",
    "zp_nb=np.mean(zeropoint_nb)\n",
    "zp_std_nb=np.std(zeropoint_nb)"
   ]
  },
  {
   "cell_type": "code",
   "execution_count": 19,
   "metadata": {},
   "outputs": [
    {
     "data": {
      "image/png": "[encoded data removed]",
      "text/plain": [
       "<Figure size 432x288 with 1 Axes>"
      ]
     },
     "metadata": {
      "needs_background": "light"
     },
     "output_type": "display_data"
    },
    {
     "name": "stdout",
     "output_type": "stream",
     "text": [
      "NB的zeropoint为 22.655472762701105\n",
      "NB的standard deviation为 0.0055752421949022395\n"
     ]
    }
   ],
   "source": [
    "plt.axhline(zp_nb)\n",
    "plt.xlabel('NB Magnitude')\n",
    "plt.ylabel('zero point')\n",
    "plt.scatter(x=mag_nb_standard_select,y=mag_bw_standard_select-mag_nb_standard_select,s=3)\n",
    "#plt.axis([0,5.5,18,30])\n",
    "plt.show()\n",
    "\n",
    "print('NB的zeropoint为',zp_nb)\n",
    "print('NB的standard deviation为',zp_std_nb)"
   ]
  },
  {
   "cell_type": "code",
   "execution_count": 20,
   "metadata": {},
   "outputs": [],
   "source": [
    "BOSS_NB=pd.concat([BOSS_NB,BOSS_NB.MAG_APER+zp_nb],axis=1)\n",
    "BOSS_NB.columns=['X_IMAGE','Y_IMAGE','ALPHA_J2000','DELTA_J2000','FLUX_APER','FLUXERR_APER','MAG_APER','MAGERR_APER ','FLAGS','NITER_MODEL','ISOAREA_IMAGE','ISOAREAF_IMAGE','standard_mag']"
   ]
  },
  {
   "cell_type": "code",
   "execution_count": 21,
   "metadata": {},
   "outputs": [
    {
     "name": "stderr",
     "output_type": "stream",
     "text": [
      "/Users/jiangtianxiaoyubei/anaconda3/lib/python3.7/site-packages/ipykernel_launcher.py:4: FutureWarning:\n",
      "\n",
      "Series.data is deprecated and will be removed in a future version\n",
      "\n",
      "/Users/jiangtianxiaoyubei/anaconda3/lib/python3.7/site-packages/ipykernel_launcher.py:5: FutureWarning:\n",
      "\n",
      "Series.data is deprecated and will be removed in a future version\n",
      "\n",
      "/Users/jiangtianxiaoyubei/anaconda3/lib/python3.7/site-packages/ipykernel_launcher.py:7: FutureWarning:\n",
      "\n",
      "Series.data is deprecated and will be removed in a future version\n",
      "\n",
      "/Users/jiangtianxiaoyubei/anaconda3/lib/python3.7/site-packages/ipykernel_launcher.py:8: FutureWarning:\n",
      "\n",
      "Series.data is deprecated and will be removed in a future version\n",
      "\n"
     ]
    }
   ],
   "source": [
    "flux_bw=[]\n",
    "flux_nb=[]\n",
    "\n",
    "for i in range(len(BOSS_Bw.standard_mag.data.obj)):#对里面所有的点，求bw flux\n",
    "    flux_bw.append(calculate_flux(BOSS_Bw.standard_mag.data.obj[i],4135,1278))\n",
    "    \n",
    "for i in range(len(BOSS_NB.standard_mag.data.obj)):#对里面所有的点,求nb flux\n",
    "    flux_nb.append(calculate_flux(BOSS_NB.standard_mag.data.obj[i],4030,45))\n",
    "\n",
    "flux_bw=DataFrame(flux_bw)#转换格式\n",
    "flux_nb=DataFrame(flux_nb)#转换格式"
   ]
  },
  {
   "cell_type": "code",
   "execution_count": 22,
   "metadata": {},
   "outputs": [],
   "source": [
    "BOSS_Bw=pd.concat([BOSS_Bw,flux_bw],axis=1)\n",
    "BOSS_Bw.columns=['X_IMAGE','Y_IMAGE','ALPHA_J2000','DELTA_J2000','FLUX_APER','FLUXERR_APER','MAG_APER','MAGERR_APER','FLAGS','NITER_MODEL','ISOAREA_IMAGE','ISOAREAF_IMAGE','standard_mag','flux_bw']\n",
    "\n",
    "BOSS_NB=pd.concat([BOSS_NB,flux_nb],axis=1)\n",
    "BOSS_NB.columns=['X_IMAGE','Y_IMAGE','ALPHA_J2000','DELTA_J2000','FLUX_APER','FLUXERR_APER','MAG_APER','MAGERR_APER','FLAGS','NITER_MODEL','ISOAREA_IMAGE','ISOAREAF_IMAGE','standard_mag','flux_nb']"
   ]
  },
  {
   "cell_type": "code",
   "execution_count": 23,
   "metadata": {},
   "outputs": [
    {
     "name": "stderr",
     "output_type": "stream",
     "text": [
      "/Users/jiangtianxiaoyubei/anaconda3/lib/python3.7/site-packages/ipykernel_launcher.py:3: FutureWarning:\n",
      "\n",
      "Series.data is deprecated and will be removed in a future version\n",
      "\n",
      "/Users/jiangtianxiaoyubei/anaconda3/lib/python3.7/site-packages/ipykernel_launcher.py:4: FutureWarning:\n",
      "\n",
      "Series.data is deprecated and will be removed in a future version\n",
      "\n",
      "/Users/jiangtianxiaoyubei/anaconda3/lib/python3.7/site-packages/ipykernel_launcher.py:5: FutureWarning:\n",
      "\n",
      "Series.data is deprecated and will be removed in a future version\n",
      "\n",
      "/Users/jiangtianxiaoyubei/anaconda3/lib/python3.7/site-packages/ipykernel_launcher.py:6: FutureWarning:\n",
      "\n",
      "Series.data is deprecated and will be removed in a future version\n",
      "\n",
      "/Users/jiangtianxiaoyubei/anaconda3/lib/python3.7/site-packages/ipykernel_launcher.py:7: FutureWarning:\n",
      "\n",
      "Series.data is deprecated and will be removed in a future version\n",
      "\n",
      "/Users/jiangtianxiaoyubei/anaconda3/lib/python3.7/site-packages/ipykernel_launcher.py:8: FutureWarning:\n",
      "\n",
      "Series.data is deprecated and will be removed in a future version\n",
      "\n",
      "/Users/jiangtianxiaoyubei/anaconda3/lib/python3.7/site-packages/ipykernel_launcher.py:9: FutureWarning:\n",
      "\n",
      "Series.data is deprecated and will be removed in a future version\n",
      "\n",
      "/Users/jiangtianxiaoyubei/anaconda3/lib/python3.7/site-packages/ipykernel_launcher.py:10: FutureWarning:\n",
      "\n",
      "Series.data is deprecated and will be removed in a future version\n",
      "\n",
      "/Users/jiangtianxiaoyubei/anaconda3/lib/python3.7/site-packages/ipykernel_launcher.py:11: FutureWarning:\n",
      "\n",
      "Series.data is deprecated and will be removed in a future version\n",
      "\n",
      "/Users/jiangtianxiaoyubei/anaconda3/lib/python3.7/site-packages/ipykernel_launcher.py:12: FutureWarning:\n",
      "\n",
      "Series.data is deprecated and will be removed in a future version\n",
      "\n",
      "/Users/jiangtianxiaoyubei/anaconda3/lib/python3.7/site-packages/ipykernel_launcher.py:13: FutureWarning:\n",
      "\n",
      "Series.data is deprecated and will be removed in a future version\n",
      "\n",
      "/Users/jiangtianxiaoyubei/anaconda3/lib/python3.7/site-packages/ipykernel_launcher.py:14: FutureWarning:\n",
      "\n",
      "Series.data is deprecated and will be removed in a future version\n",
      "\n",
      "/Users/jiangtianxiaoyubei/anaconda3/lib/python3.7/site-packages/ipykernel_launcher.py:15: FutureWarning:\n",
      "\n",
      "Series.data is deprecated and will be removed in a future version\n",
      "\n",
      "/Users/jiangtianxiaoyubei/anaconda3/lib/python3.7/site-packages/ipykernel_launcher.py:16: FutureWarning:\n",
      "\n",
      "Series.data is deprecated and will be removed in a future version\n",
      "\n"
     ]
    }
   ],
   "source": [
    "Bw_1=pd.DataFrame()\n",
    "\n",
    "Bw_1=pd.concat([Bw_1,DataFrame(BOSS_Bw.X_IMAGE.data.obj[idx_nb])],axis=1)\n",
    "Bw_1=pd.concat([Bw_1,DataFrame(BOSS_Bw.Y_IMAGE.data.obj[idx_nb])],axis=1)\n",
    "Bw_1=pd.concat([Bw_1,DataFrame(BOSS_Bw.ALPHA_J2000.data.obj[idx_nb])],axis=1)\n",
    "Bw_1=pd.concat([Bw_1,DataFrame(BOSS_Bw.DELTA_J2000.data.obj[idx_nb])],axis=1)\n",
    "Bw_1=pd.concat([Bw_1,DataFrame(BOSS_Bw.FLUX_APER.data.obj[idx_nb])],axis=1)\n",
    "Bw_1=pd.concat([Bw_1,DataFrame(BOSS_Bw.FLUXERR_APER.data.obj[idx_nb])],axis=1)\n",
    "Bw_1=pd.concat([Bw_1,DataFrame(BOSS_Bw.MAG_APER.data.obj[idx_nb])],axis=1)\n",
    "Bw_1=pd.concat([Bw_1,DataFrame(BOSS_Bw.MAGERR_APER.data.obj[idx_nb])],axis=1)\n",
    "Bw_1=pd.concat([Bw_1,DataFrame(BOSS_Bw.FLAGS.data.obj[idx_nb])],axis=1)\n",
    "Bw_1=pd.concat([Bw_1,DataFrame(BOSS_Bw.NITER_MODEL.data.obj[idx_nb])],axis=1)\n",
    "Bw_1=pd.concat([Bw_1,DataFrame(BOSS_Bw.ISOAREA_IMAGE.data.obj[idx_nb])],axis=1)\n",
    "Bw_1=pd.concat([Bw_1,DataFrame(BOSS_Bw.ISOAREAF_IMAGE.data.obj[idx_nb])],axis=1)\n",
    "Bw_1=pd.concat([Bw_1,DataFrame(BOSS_Bw.standard_mag.data.obj[idx_nb])],axis=1)\n",
    "Bw_1=pd.concat([Bw_1,DataFrame(BOSS_Bw.flux_bw.data.obj[idx_nb])],axis=1)\n",
    "Bw_1.columns=['X_IMAGE','Y_IMAGE','ALPHA_J2000','DELTA_J2000','FLUX_APER','FLUXERR_APER','MAG_APER','MAGERR_APER','FLAGS','NITER_MODEL','ISOAREA_IMAGE','ISOAREAF_IMAGE','standard_mag','flux_bw']"
   ]
  },
  {
   "cell_type": "code",
   "execution_count": 24,
   "metadata": {},
   "outputs": [
    {
     "name": "stderr",
     "output_type": "stream",
     "text": [
      "/Users/jiangtianxiaoyubei/anaconda3/lib/python3.7/site-packages/ipykernel_launcher.py:4: FutureWarning:\n",
      "\n",
      "Series.data is deprecated and will be removed in a future version\n",
      "\n",
      "/Users/jiangtianxiaoyubei/anaconda3/lib/python3.7/site-packages/ipykernel_launcher.py:5: FutureWarning:\n",
      "\n",
      "Series.data is deprecated and will be removed in a future version\n",
      "\n",
      "/Users/jiangtianxiaoyubei/anaconda3/lib/python3.7/site-packages/ipykernel_launcher.py:6: FutureWarning:\n",
      "\n",
      "Series.data is deprecated and will be removed in a future version\n",
      "\n",
      "/Users/jiangtianxiaoyubei/anaconda3/lib/python3.7/site-packages/ipykernel_launcher.py:7: FutureWarning:\n",
      "\n",
      "Series.data is deprecated and will be removed in a future version\n",
      "\n",
      "/Users/jiangtianxiaoyubei/anaconda3/lib/python3.7/site-packages/ipykernel_launcher.py:8: FutureWarning:\n",
      "\n",
      "Series.data is deprecated and will be removed in a future version\n",
      "\n",
      "/Users/jiangtianxiaoyubei/anaconda3/lib/python3.7/site-packages/ipykernel_launcher.py:9: FutureWarning:\n",
      "\n",
      "Series.data is deprecated and will be removed in a future version\n",
      "\n",
      "/Users/jiangtianxiaoyubei/anaconda3/lib/python3.7/site-packages/ipykernel_launcher.py:10: FutureWarning:\n",
      "\n",
      "Series.data is deprecated and will be removed in a future version\n",
      "\n",
      "/Users/jiangtianxiaoyubei/anaconda3/lib/python3.7/site-packages/ipykernel_launcher.py:11: FutureWarning:\n",
      "\n",
      "Series.data is deprecated and will be removed in a future version\n",
      "\n",
      "/Users/jiangtianxiaoyubei/anaconda3/lib/python3.7/site-packages/ipykernel_launcher.py:12: FutureWarning:\n",
      "\n",
      "Series.data is deprecated and will be removed in a future version\n",
      "\n",
      "/Users/jiangtianxiaoyubei/anaconda3/lib/python3.7/site-packages/ipykernel_launcher.py:13: FutureWarning:\n",
      "\n",
      "Series.data is deprecated and will be removed in a future version\n",
      "\n",
      "/Users/jiangtianxiaoyubei/anaconda3/lib/python3.7/site-packages/ipykernel_launcher.py:14: FutureWarning:\n",
      "\n",
      "Series.data is deprecated and will be removed in a future version\n",
      "\n",
      "/Users/jiangtianxiaoyubei/anaconda3/lib/python3.7/site-packages/ipykernel_launcher.py:15: FutureWarning:\n",
      "\n",
      "Series.data is deprecated and will be removed in a future version\n",
      "\n",
      "/Users/jiangtianxiaoyubei/anaconda3/lib/python3.7/site-packages/ipykernel_launcher.py:16: FutureWarning:\n",
      "\n",
      "Series.data is deprecated and will be removed in a future version\n",
      "\n",
      "/Users/jiangtianxiaoyubei/anaconda3/lib/python3.7/site-packages/ipykernel_launcher.py:17: FutureWarning:\n",
      "\n",
      "Series.data is deprecated and will be removed in a future version\n",
      "\n"
     ]
    }
   ],
   "source": [
    "NB_1=pd.DataFrame()\n",
    "\n",
    "\n",
    "NB_1=pd.concat([NB_1,DataFrame(BOSS_NB.X_IMAGE.data.obj[index_nb])],axis=1)\n",
    "NB_1=pd.concat([NB_1,DataFrame(BOSS_NB.Y_IMAGE.data.obj[index_nb])],axis=1)\n",
    "NB_1=pd.concat([NB_1,DataFrame(BOSS_NB.ALPHA_J2000.data.obj[index_nb])],axis=1)\n",
    "NB_1=pd.concat([NB_1,DataFrame(BOSS_NB.DELTA_J2000.data.obj[index_nb])],axis=1)\n",
    "NB_1=pd.concat([NB_1,DataFrame(BOSS_NB.FLUX_APER.data.obj[index_nb])],axis=1)\n",
    "NB_1=pd.concat([NB_1,DataFrame(BOSS_NB.FLUXERR_APER.data.obj[index_nb])],axis=1)\n",
    "NB_1=pd.concat([NB_1,DataFrame(BOSS_NB.MAG_APER.data.obj[index_nb])],axis=1)\n",
    "NB_1=pd.concat([NB_1,DataFrame(BOSS_NB.MAGERR_APER.data.obj[index_nb])],axis=1)\n",
    "NB_1=pd.concat([NB_1,DataFrame(BOSS_NB.FLAGS.data.obj[index_nb])],axis=1)\n",
    "NB_1=pd.concat([NB_1,DataFrame(BOSS_NB.NITER_MODEL.data.obj[index_nb])],axis=1)\n",
    "NB_1=pd.concat([NB_1,DataFrame(BOSS_NB.ISOAREA_IMAGE.data.obj[index_nb])],axis=1)\n",
    "NB_1=pd.concat([NB_1,DataFrame(BOSS_NB.ISOAREAF_IMAGE.data.obj[index_nb])],axis=1)\n",
    "NB_1=pd.concat([NB_1,DataFrame(BOSS_NB.standard_mag.data.obj[index_nb])],axis=1)\n",
    "NB_1=pd.concat([NB_1,DataFrame(BOSS_NB.flux_nb.data.obj[index_nb])],axis=1)\n",
    "NB_1.columns=['X_IMAGE','Y_IMAGE','ALPHA_J2000','DELTA_J2000','FLUX_APER','FLUXERR_APER','MAG_APER','MAGERR_APER','FLAGS','NITER_MODEL','ISOAREA_IMAGE','ISOAREAF_IMAGE','standard_mag','flux_nb']"
   ]
  },
  {
   "cell_type": "code",
   "execution_count": 25,
   "metadata": {},
   "outputs": [
    {
     "name": "stderr",
     "output_type": "stream",
     "text": [
      "/Users/jiangtianxiaoyubei/anaconda3/lib/python3.7/site-packages/ipykernel_launcher.py:1: FutureWarning:\n",
      "\n",
      "Series.data is deprecated and will be removed in a future version\n",
      "\n",
      "/Users/jiangtianxiaoyubei/anaconda3/lib/python3.7/site-packages/ipykernel_launcher.py:2: FutureWarning:\n",
      "\n",
      "Series.data is deprecated and will be removed in a future version\n",
      "\n"
     ]
    }
   ],
   "source": [
    "F_bw=Bw_1.flux_bw.data.obj\n",
    "F_nb=NB_1.flux_nb.data.obj"
   ]
  },
  {
   "cell_type": "code",
   "execution_count": 26,
   "metadata": {},
   "outputs": [],
   "source": [
    "cont_flux_per_wavelength=[]\n",
    "for i in range(len(F_bw)):\n",
    "    #cont_flux_per_wavelength.append((F_bw[i]-F_nb[i])/(1278-45))\n",
    "    cont_flux_per_wavelength.append(calculate_continuum_flux_density(F_bw[i],F_nb[i],1278,45))\n",
    "    \n",
    "#得到了continuum flux density,下面要反求magnitude"
   ]
  },
  {
   "cell_type": "code",
   "execution_count": 27,
   "metadata": {},
   "outputs": [],
   "source": [
    "Bw_1=pd.concat([Bw_1,DataFrame(cont_flux_per_wavelength)],axis=1)\n",
    "Bw_1.columns=['X_IMAGE','Y_IMAGE','ALPHA_J2000','DELTA_J2000','FLUX_APER','FLUXERR_APER','MAG_APER','MAGERR_APER','FLAGS','NITER_MODEL','ISOAREA_IMAGE','ISOAREAF_IMAGE','standard_mag','flux_bw','cont_flux_per_wavelength']\n",
    "\n",
    "NB_1=pd.concat([NB_1,DataFrame(cont_flux_per_wavelength)],axis=1)\n",
    "NB_1.columns=['X_IMAGE','Y_IMAGE','ALPHA_J2000','DELTA_J2000','FLUX_APER','FLUXERR_APER','MAG_APER','MAGERR_APER','FLAGS','NITER_MODEL','ISOAREA_IMAGE','ISOAREAF_IMAGE','standard_mag','flux_nb','cont_flux_per_wavelength']"
   ]
  },
  {
   "cell_type": "code",
   "execution_count": 28,
   "metadata": {},
   "outputs": [],
   "source": [
    "minus_number=[]\n",
    "for i in range(len(cont_flux_per_wavelength)):\n",
    "    if (cont_flux_per_wavelength[i]<0):\n",
    "        #print(cont_flux_per_wavelength[i])\n",
    "        minus_number.append(i)"
   ]
  },
  {
   "cell_type": "code",
   "execution_count": 29,
   "metadata": {},
   "outputs": [],
   "source": [
    "Bw_1.drop(minus_number,inplace=True)\n",
    "NB_1.drop(minus_number,inplace=True)\n",
    "Bw_1.reset_index(drop=True, inplace=True)\n",
    "NB_1.reset_index(drop=True, inplace=True)"
   ]
  },
  {
   "cell_type": "code",
   "execution_count": 30,
   "metadata": {},
   "outputs": [],
   "source": [
    "Bw_1=pd.concat([Bw_1,Bw_1.cont_flux_per_wavelength*(4135**2)/(3e8*1e10)],axis=1)\n",
    "NB_1=pd.concat([NB_1,NB_1.cont_flux_per_wavelength*(4135**2)/(3e8*1e10)],axis=1)\n",
    "\n",
    "Bw_1.columns=['X_IMAGE','Y_IMAGE','ALPHA_J2000','DELTA_J2000','FLUX_APER','FLUXERR_APER','MAG_APER','MAGERR_APER','FLAGS','NITER_MODEL','ISOAREA_IMAGE','ISOAREAF_IMAGE','standard_mag','flux_bw','cont_flux_per_wavelength','cont_flux_per_frequency']\n",
    "NB_1.columns=['X_IMAGE','Y_IMAGE','ALPHA_J2000','DELTA_J2000','FLUX_APER','FLUXERR_APER','MAG_APER','MAGERR_APER','FLAGS','NITER_MODEL','ISOAREA_IMAGE','ISOAREAF_IMAGE','standard_mag','flux_nb','cont_flux_per_wavelength','cont_flux_per_frequency']"
   ]
  },
  {
   "cell_type": "code",
   "execution_count": 31,
   "metadata": {},
   "outputs": [
    {
     "name": "stderr",
     "output_type": "stream",
     "text": [
      "/Users/jiangtianxiaoyubei/anaconda3/lib/python3.7/site-packages/ipykernel_launcher.py:3: FutureWarning:\n",
      "\n",
      "Series.data is deprecated and will be removed in a future version\n",
      "\n"
     ]
    }
   ],
   "source": [
    "cont_bw=[]\n",
    "for i in range(len(Bw_1)):\n",
    "    cont_bw.append((-2.5*math.log(Bw_1.cont_flux_per_frequency.data.obj[i],10)-48.6))"
   ]
  },
  {
   "cell_type": "code",
   "execution_count": 32,
   "metadata": {},
   "outputs": [],
   "source": [
    "Bw_1=pd.concat([Bw_1,DataFrame(cont_bw)],axis=1)\n",
    "NB_1=pd.concat([NB_1,DataFrame(cont_bw)],axis=1)\n",
    "Bw_1.columns=['X_IMAGE','Y_IMAGE','ALPHA_J2000','DELTA_J2000','FLUX_APER','FLUXERR_APER','MAG_APER','MAGERR_APER','FLAGS','NITER_MODEL','ISOAREA_IMAGE','ISOAREAF_IMAGE','standard_mag','flux_bw','cont_flux_per_frequency','cont_flux_per_wavelength','cont_bw']\n",
    "NB_1.columns=['X_IMAGE','Y_IMAGE','ALPHA_J2000','DELTA_J2000','FLUX_APER','FLUXERR_APER','MAG_APER','MAGERR_APER','FLAGS','NITER_MODEL','ISOAREA_IMAGE','ISOAREAF_IMAGE','standard_mag','flux_nb','cont_flux_per_frequency','cont_flux_per_wavelength','cont_bw']"
   ]
  },
  {
   "cell_type": "code",
   "execution_count": 33,
   "metadata": {},
   "outputs": [
    {
     "name": "stderr",
     "output_type": "stream",
     "text": [
      "/Users/jiangtianxiaoyubei/anaconda3/lib/python3.7/site-packages/ipykernel_launcher.py:3: FutureWarning:\n",
      "\n",
      "Series.data is deprecated and will be removed in a future version\n",
      "\n"
     ]
    }
   ],
   "source": [
    "bw_sub_nb=[]\n",
    "for i in range(len(NB_1)):\n",
    "    bw_sub_nb.append(Bw_1.standard_mag.data.obj[i]-NB_1.standard_mag.data.obj[i])"
   ]
  },
  {
   "cell_type": "code",
   "execution_count": 34,
   "metadata": {},
   "outputs": [
    {
     "name": "stderr",
     "output_type": "stream",
     "text": [
      "/Users/jiangtianxiaoyubei/anaconda3/lib/python3.7/site-packages/ipykernel_launcher.py:1: FutureWarning:\n",
      "\n",
      "Series.data is deprecated and will be removed in a future version\n",
      "\n"
     ]
    },
    {
     "data": {
      "image/png": "[encoded data removed]",
      "text/plain": [
       "<Figure size 432x288 with 1 Axes>"
      ]
     },
     "metadata": {
      "needs_background": "light"
     },
     "output_type": "display_data"
    }
   ],
   "source": [
    "plt.scatter(NB_1.standard_mag.data, bw_sub_nb, color = 'b', s=1)\n",
    "plt.axhline(0, color='k', linestyle='solid')\n",
    "plt.axhline(0.87, color='r', linestyle='--', linewidth = 1)\n",
    "plt.axvline(24, color='r', linestyle='--', linewidth = 1)\n",
    "plt.axis([12,30,-2,4])\n",
    "plt.xlabel('NB403')\n",
    "plt.ylabel('Bw - NB')\n",
    "plt.show()"
   ]
  },
  {
   "cell_type": "code",
   "execution_count": 35,
   "metadata": {},
   "outputs": [],
   "source": [
    "w = WCS('BOSS0230_Bw_cut.fits')\n",
    "data,header=fits.getdata('BOSS0230_Bw_cut.fits',header=True)\n",
    "data2,header2=fits.getdata('BOSS0230_NB_cut.fits',header=True)\n",
    "\n",
    "datacut=10**((zp_bw - zp_nb)/2.5) * data2-data\n",
    "#datacut=10**((zp_bw - zp_nb)/2.5) * data2-data2\n",
    "dataadd=10**((zp_bw - zp_nb)/2.5) * data2+data\n",
    "\n",
    "norm = Scaleimgconverter(datacut)\n",
    "\n",
    "lenx=len(data[0])\n",
    "leny=len(data)\n",
    "#最后两行暂时不知道有啥用"
   ]
  },
  {
   "cell_type": "code",
   "execution_count": 36,
   "metadata": {},
   "outputs": [
    {
     "name": "stderr",
     "output_type": "stream",
     "text": [
      "/Users/jiangtianxiaoyubei/anaconda3/lib/python3.7/site-packages/ipykernel_launcher.py:3: FutureWarning:\n",
      "\n",
      "Series.data is deprecated and will be removed in a future version\n",
      "\n",
      "/Users/jiangtianxiaoyubei/anaconda3/lib/python3.7/site-packages/ipykernel_launcher.py:4: FutureWarning:\n",
      "\n",
      "Series.data is deprecated and will be removed in a future version\n",
      "\n",
      "/Users/jiangtianxiaoyubei/anaconda3/lib/python3.7/site-packages/ipykernel_launcher.py:5: FutureWarning:\n",
      "\n",
      "Series.data is deprecated and will be removed in a future version\n",
      "\n"
     ]
    }
   ],
   "source": [
    "index_candidate=[]\n",
    "for i in range(len(Bw_1)):\n",
    "    if (Bw_1.standard_mag.data.obj[i]-NB_1.standard_mag.data.obj[i] > 0.87) \\\n",
    "        & (NB_1.standard_mag.data.obj[i]< 24):\n",
    "        if choose(datacut,NB_1.X_IMAGE.data.obj[i],NB_1.Y_IMAGE.data.obj[i],-10,40):\n",
    "            index_candidate.append(i)"
   ]
  },
  {
   "cell_type": "code",
   "execution_count": 37,
   "metadata": {},
   "outputs": [
    {
     "name": "stderr",
     "output_type": "stream",
     "text": [
      "/Users/jiangtianxiaoyubei/anaconda3/lib/python3.7/site-packages/ipykernel_launcher.py:3: FutureWarning:\n",
      "\n",
      "Series.data is deprecated and will be removed in a future version\n",
      "\n",
      "/Users/jiangtianxiaoyubei/anaconda3/lib/python3.7/site-packages/ipykernel_launcher.py:4: FutureWarning:\n",
      "\n",
      "Series.data is deprecated and will be removed in a future version\n",
      "\n",
      "/Users/jiangtianxiaoyubei/anaconda3/lib/python3.7/site-packages/ipykernel_launcher.py:5: FutureWarning:\n",
      "\n",
      "Series.data is deprecated and will be removed in a future version\n",
      "\n",
      "/Users/jiangtianxiaoyubei/anaconda3/lib/python3.7/site-packages/ipykernel_launcher.py:6: FutureWarning:\n",
      "\n",
      "Series.data is deprecated and will be removed in a future version\n",
      "\n",
      "/Users/jiangtianxiaoyubei/anaconda3/lib/python3.7/site-packages/ipykernel_launcher.py:7: FutureWarning:\n",
      "\n",
      "Series.data is deprecated and will be removed in a future version\n",
      "\n",
      "/Users/jiangtianxiaoyubei/anaconda3/lib/python3.7/site-packages/ipykernel_launcher.py:8: FutureWarning:\n",
      "\n",
      "Series.data is deprecated and will be removed in a future version\n",
      "\n",
      "/Users/jiangtianxiaoyubei/anaconda3/lib/python3.7/site-packages/ipykernel_launcher.py:9: FutureWarning:\n",
      "\n",
      "Series.data is deprecated and will be removed in a future version\n",
      "\n",
      "/Users/jiangtianxiaoyubei/anaconda3/lib/python3.7/site-packages/ipykernel_launcher.py:10: FutureWarning:\n",
      "\n",
      "Series.data is deprecated and will be removed in a future version\n",
      "\n",
      "/Users/jiangtianxiaoyubei/anaconda3/lib/python3.7/site-packages/ipykernel_launcher.py:11: FutureWarning:\n",
      "\n",
      "Series.data is deprecated and will be removed in a future version\n",
      "\n",
      "/Users/jiangtianxiaoyubei/anaconda3/lib/python3.7/site-packages/ipykernel_launcher.py:12: FutureWarning:\n",
      "\n",
      "Series.data is deprecated and will be removed in a future version\n",
      "\n",
      "/Users/jiangtianxiaoyubei/anaconda3/lib/python3.7/site-packages/ipykernel_launcher.py:13: FutureWarning:\n",
      "\n",
      "Series.data is deprecated and will be removed in a future version\n",
      "\n",
      "/Users/jiangtianxiaoyubei/anaconda3/lib/python3.7/site-packages/ipykernel_launcher.py:14: FutureWarning:\n",
      "\n",
      "Series.data is deprecated and will be removed in a future version\n",
      "\n",
      "/Users/jiangtianxiaoyubei/anaconda3/lib/python3.7/site-packages/ipykernel_launcher.py:15: FutureWarning:\n",
      "\n",
      "Series.data is deprecated and will be removed in a future version\n",
      "\n",
      "/Users/jiangtianxiaoyubei/anaconda3/lib/python3.7/site-packages/ipykernel_launcher.py:16: FutureWarning:\n",
      "\n",
      "Series.data is deprecated and will be removed in a future version\n",
      "\n",
      "/Users/jiangtianxiaoyubei/anaconda3/lib/python3.7/site-packages/ipykernel_launcher.py:17: FutureWarning:\n",
      "\n",
      "Series.data is deprecated and will be removed in a future version\n",
      "\n",
      "/Users/jiangtianxiaoyubei/anaconda3/lib/python3.7/site-packages/ipykernel_launcher.py:18: FutureWarning:\n",
      "\n",
      "Series.data is deprecated and will be removed in a future version\n",
      "\n",
      "/Users/jiangtianxiaoyubei/anaconda3/lib/python3.7/site-packages/ipykernel_launcher.py:19: FutureWarning:\n",
      "\n",
      "Series.data is deprecated and will be removed in a future version\n",
      "\n"
     ]
    }
   ],
   "source": [
    "Bw_2=pd.DataFrame()\n",
    "\n",
    "Bw_2=pd.concat([Bw_2,DataFrame(Bw_1.X_IMAGE.data.obj[index_candidate])],axis=1)\n",
    "Bw_2=pd.concat([Bw_2,DataFrame(Bw_1.Y_IMAGE.data.obj[index_candidate])],axis=1)\n",
    "Bw_2=pd.concat([Bw_2,DataFrame(Bw_1.ALPHA_J2000.data.obj[index_candidate])],axis=1)\n",
    "Bw_2=pd.concat([Bw_2,DataFrame(Bw_1.DELTA_J2000.data.obj[index_candidate])],axis=1)\n",
    "Bw_2=pd.concat([Bw_2,DataFrame(Bw_1.FLUX_APER.data.obj[index_candidate])],axis=1)\n",
    "Bw_2=pd.concat([Bw_2,DataFrame(Bw_1.FLUXERR_APER.data.obj[index_candidate])],axis=1)\n",
    "Bw_2=pd.concat([Bw_2,DataFrame(Bw_1.MAG_APER.data.obj[index_candidate])],axis=1)\n",
    "Bw_2=pd.concat([Bw_2,DataFrame(Bw_1.MAGERR_APER.data.obj[index_candidate])],axis=1)\n",
    "Bw_2=pd.concat([Bw_2,DataFrame(Bw_1.FLAGS.data.obj[index_candidate])],axis=1)\n",
    "Bw_2=pd.concat([Bw_2,DataFrame(Bw_1.NITER_MODEL.data.obj[index_candidate])],axis=1)\n",
    "Bw_2=pd.concat([Bw_2,DataFrame(Bw_1.ISOAREA_IMAGE.data.obj[index_candidate])],axis=1)\n",
    "Bw_2=pd.concat([Bw_2,DataFrame(Bw_1.ISOAREAF_IMAGE.data.obj[index_candidate])],axis=1)\n",
    "Bw_2=pd.concat([Bw_2,DataFrame(Bw_1.standard_mag.data.obj[index_candidate])],axis=1)\n",
    "Bw_2=pd.concat([Bw_2,DataFrame(Bw_1.flux_bw.data.obj[index_candidate])],axis=1)\n",
    "Bw_2=pd.concat([Bw_2,DataFrame(Bw_1.cont_flux_per_frequency.data.obj[index_candidate])],axis=1)\n",
    "Bw_2=pd.concat([Bw_2,DataFrame(Bw_1.cont_flux_per_wavelength.data.obj[index_candidate])],axis=1)\n",
    "Bw_2=pd.concat([Bw_2,DataFrame(Bw_1.cont_bw.data.obj[index_candidate])],axis=1)\n",
    "Bw_2.columns=['X_IMAGE','Y_IMAGE','ALPHA_J2000','DELTA_J2000','FLUX_APER','FLUXERR_APER','MAG_APER','MAGERR_APER','FLAGS','NITER_MODEL','ISOAREA_IMAGE','ISOAREAF_IMAGE','standard_mag','flux_bw','cont_flux_per_frequency','cont_flux_per_wavelength','cont_bw']"
   ]
  },
  {
   "cell_type": "code",
   "execution_count": 38,
   "metadata": {},
   "outputs": [
    {
     "name": "stderr",
     "output_type": "stream",
     "text": [
      "/Users/jiangtianxiaoyubei/anaconda3/lib/python3.7/site-packages/ipykernel_launcher.py:3: FutureWarning:\n",
      "\n",
      "Series.data is deprecated and will be removed in a future version\n",
      "\n",
      "/Users/jiangtianxiaoyubei/anaconda3/lib/python3.7/site-packages/ipykernel_launcher.py:4: FutureWarning:\n",
      "\n",
      "Series.data is deprecated and will be removed in a future version\n",
      "\n",
      "/Users/jiangtianxiaoyubei/anaconda3/lib/python3.7/site-packages/ipykernel_launcher.py:5: FutureWarning:\n",
      "\n",
      "Series.data is deprecated and will be removed in a future version\n",
      "\n",
      "/Users/jiangtianxiaoyubei/anaconda3/lib/python3.7/site-packages/ipykernel_launcher.py:6: FutureWarning:\n",
      "\n",
      "Series.data is deprecated and will be removed in a future version\n",
      "\n",
      "/Users/jiangtianxiaoyubei/anaconda3/lib/python3.7/site-packages/ipykernel_launcher.py:7: FutureWarning:\n",
      "\n",
      "Series.data is deprecated and will be removed in a future version\n",
      "\n",
      "/Users/jiangtianxiaoyubei/anaconda3/lib/python3.7/site-packages/ipykernel_launcher.py:8: FutureWarning:\n",
      "\n",
      "Series.data is deprecated and will be removed in a future version\n",
      "\n",
      "/Users/jiangtianxiaoyubei/anaconda3/lib/python3.7/site-packages/ipykernel_launcher.py:9: FutureWarning:\n",
      "\n",
      "Series.data is deprecated and will be removed in a future version\n",
      "\n",
      "/Users/jiangtianxiaoyubei/anaconda3/lib/python3.7/site-packages/ipykernel_launcher.py:10: FutureWarning:\n",
      "\n",
      "Series.data is deprecated and will be removed in a future version\n",
      "\n",
      "/Users/jiangtianxiaoyubei/anaconda3/lib/python3.7/site-packages/ipykernel_launcher.py:11: FutureWarning:\n",
      "\n",
      "Series.data is deprecated and will be removed in a future version\n",
      "\n",
      "/Users/jiangtianxiaoyubei/anaconda3/lib/python3.7/site-packages/ipykernel_launcher.py:12: FutureWarning:\n",
      "\n",
      "Series.data is deprecated and will be removed in a future version\n",
      "\n",
      "/Users/jiangtianxiaoyubei/anaconda3/lib/python3.7/site-packages/ipykernel_launcher.py:13: FutureWarning:\n",
      "\n",
      "Series.data is deprecated and will be removed in a future version\n",
      "\n",
      "/Users/jiangtianxiaoyubei/anaconda3/lib/python3.7/site-packages/ipykernel_launcher.py:14: FutureWarning:\n",
      "\n",
      "Series.data is deprecated and will be removed in a future version\n",
      "\n",
      "/Users/jiangtianxiaoyubei/anaconda3/lib/python3.7/site-packages/ipykernel_launcher.py:15: FutureWarning:\n",
      "\n",
      "Series.data is deprecated and will be removed in a future version\n",
      "\n",
      "/Users/jiangtianxiaoyubei/anaconda3/lib/python3.7/site-packages/ipykernel_launcher.py:16: FutureWarning:\n",
      "\n",
      "Series.data is deprecated and will be removed in a future version\n",
      "\n",
      "/Users/jiangtianxiaoyubei/anaconda3/lib/python3.7/site-packages/ipykernel_launcher.py:17: FutureWarning:\n",
      "\n",
      "Series.data is deprecated and will be removed in a future version\n",
      "\n",
      "/Users/jiangtianxiaoyubei/anaconda3/lib/python3.7/site-packages/ipykernel_launcher.py:18: FutureWarning:\n",
      "\n",
      "Series.data is deprecated and will be removed in a future version\n",
      "\n",
      "/Users/jiangtianxiaoyubei/anaconda3/lib/python3.7/site-packages/ipykernel_launcher.py:19: FutureWarning:\n",
      "\n",
      "Series.data is deprecated and will be removed in a future version\n",
      "\n"
     ]
    }
   ],
   "source": [
    "NB_2=pd.DataFrame()\n",
    "\n",
    "NB_2=pd.concat([NB_2,DataFrame(NB_1.X_IMAGE.data.obj[index_candidate])],axis=1)\n",
    "NB_2=pd.concat([NB_2,DataFrame(NB_1.Y_IMAGE.data.obj[index_candidate])],axis=1)\n",
    "NB_2=pd.concat([NB_2,DataFrame(NB_1.ALPHA_J2000.data.obj[index_candidate])],axis=1)\n",
    "NB_2=pd.concat([NB_2,DataFrame(NB_1.DELTA_J2000.data.obj[index_candidate])],axis=1)\n",
    "NB_2=pd.concat([NB_2,DataFrame(NB_1.FLUX_APER.data.obj[index_candidate])],axis=1)\n",
    "NB_2=pd.concat([NB_2,DataFrame(NB_1.FLUXERR_APER.data.obj[index_candidate])],axis=1)\n",
    "NB_2=pd.concat([NB_2,DataFrame(NB_1.MAG_APER.data.obj[index_candidate])],axis=1)\n",
    "NB_2=pd.concat([NB_2,DataFrame(NB_1.MAGERR_APER.data.obj[index_candidate])],axis=1)\n",
    "NB_2=pd.concat([NB_2,DataFrame(NB_1.FLAGS.data.obj[index_candidate])],axis=1)\n",
    "NB_2=pd.concat([NB_2,DataFrame(NB_1.NITER_MODEL.data.obj[index_candidate])],axis=1)\n",
    "NB_2=pd.concat([NB_2,DataFrame(NB_1.ISOAREA_IMAGE.data.obj[index_candidate])],axis=1)\n",
    "NB_2=pd.concat([NB_2,DataFrame(NB_1.ISOAREAF_IMAGE.data.obj[index_candidate])],axis=1)\n",
    "NB_2=pd.concat([NB_2,DataFrame(NB_1.standard_mag.data.obj[index_candidate])],axis=1)\n",
    "NB_2=pd.concat([NB_2,DataFrame(NB_1.flux_nb.data.obj[index_candidate])],axis=1)\n",
    "NB_2=pd.concat([NB_2,DataFrame(NB_1.cont_flux_per_frequency.data.obj[index_candidate])],axis=1)\n",
    "NB_2=pd.concat([NB_2,DataFrame(NB_1.cont_flux_per_wavelength.data.obj[index_candidate])],axis=1)\n",
    "NB_2=pd.concat([NB_2,DataFrame(NB_1.cont_bw.data.obj[index_candidate])],axis=1)\n",
    "NB_2.columns=['X_IMAGE','Y_IMAGE','ALPHA_J2000','DELTA_J2000','FLUX_APER','FLUXERR_APER','MAG_APER','MAGERR_APER','FLAGS','NITER_MODEL','ISOAREA_IMAGE','ISOAREAF_IMAGE','standard_mag','flux_nb','cont_flux_per_frequency','cont_flux_per_wavelength','cont_bw']"
   ]
  },
  {
   "cell_type": "code",
   "execution_count": 39,
   "metadata": {},
   "outputs": [],
   "source": [
    "NB_2=pd.concat([NB_2,NB_2.flux_nb-(NB_2.cont_flux_per_wavelength*45)],axis=1)\n",
    "Bw_2=pd.concat([Bw_2,NB_2.flux_nb-(NB_2.cont_flux_per_wavelength*45)],axis=1)\n",
    "\n",
    "Bw_2.columns=['X_IMAGE','Y_IMAGE','ALPHA_J2000','DELTA_J2000','FLUX_APER','FLUXERR_APER','MAG_APER','MAGERR_APER','FLAGS','NITER_MODEL','ISOAREA_IMAGE','ISOAREAF_IMAGE','standard_mag','flux_bw','cont_flux_per_frequency','cont_flux_per_wavelength','cont_bw','line_flux']\n",
    "NB_2.columns=['X_IMAGE','Y_IMAGE','ALPHA_J2000','DELTA_J2000','FLUX_APER','FLUXERR_APER','MAG_APER','MAGERR_APER','FLAGS','NITER_MODEL','ISOAREA_IMAGE','ISOAREAF_IMAGE','standard_mag','flux_nb','cont_flux_per_frequency','cont_flux_per_wavelength','cont_bw','line_flux']\n",
    "\n",
    "#计算 line flux 没啥问题好吧"
   ]
  },
  {
   "cell_type": "code",
   "execution_count": 40,
   "metadata": {},
   "outputs": [
    {
     "name": "stderr",
     "output_type": "stream",
     "text": [
      "/Users/jiangtianxiaoyubei/anaconda3/lib/python3.7/site-packages/ipykernel_launcher.py:4: FutureWarning:\n",
      "\n",
      "Series.data is deprecated and will be removed in a future version\n",
      "\n",
      "/Users/jiangtianxiaoyubei/anaconda3/lib/python3.7/site-packages/ipykernel_launcher.py:5: FutureWarning:\n",
      "\n",
      "Series.data is deprecated and will be removed in a future version\n",
      "\n"
     ]
    }
   ],
   "source": [
    "#distance=cosmo.comoving_distance((4030-1215.7)/1215.7).value*3.2615637771418798291*9.46*1e23*(4030-1215.7)/1215.7\n",
    "distance=math.sqrt(2.27e43/(1e-15*4*math.pi))\n",
    "#distance=calculate_distance(2.3)\n",
    "Bw_2=pd.concat([Bw_2,DataFrame(4*math.pi*distance**2*Bw_2.line_flux.data.obj)],axis=1)\n",
    "NB_2=pd.concat([NB_2,DataFrame(4*math.pi*distance**2*NB_2.line_flux.data.obj)],axis=1)\n",
    "#emitter_1=pd.concat([emitter_1,DataFrame(4*math.pi*distance**2*emitter_1.flux_bw.data.obj)],axis=1)\n",
    "\n",
    "Bw_2.columns=['X_IMAGE','Y_IMAGE','ALPHA_J2000','DELTA_J2000','FLUX_APER','FLUXERR_APER','MAG_APER','MAGERR_APER','FLAGS','NITER_MODEL','ISOAREA_IMAGE','ISOAREAF_IMAGE','standard_mag','flux_bw','cont_flux_per_frequency','cont_flux_per_wavelength','cont_bw','line_flux','luminosity']\n",
    "NB_2.columns=['X_IMAGE','Y_IMAGE','ALPHA_J2000','DELTA_J2000','FLUX_APER','FLUXERR_APER','MAG_APER','MAGERR_APER','FLAGS','NITER_MODEL','ISOAREA_IMAGE','ISOAREAF_IMAGE','standard_mag','flux_nb','cont_flux_per_frequency','cont_flux_per_wavelength','cont_bw','line_flux','luminosity']"
   ]
  },
  {
   "cell_type": "code",
   "execution_count": 41,
   "metadata": {},
   "outputs": [
    {
     "data": {
      "image/png": "[encoded data removed]",
      "text/plain": [
       "<Figure size 432x288 with 1 Axes>"
      ]
     },
     "metadata": {
      "needs_background": "light"
     },
     "output_type": "display_data"
    }
   ],
   "source": [
    "plt.semilogx()\n",
    "plt.scatter(NB_2.luminosity,NB_2.ISOAREAF_IMAGE*(0.0625), color = 'b', s=1)\n",
    "plt.axhline(10, color='r', linestyle='--', linewidth = 1)\n",
    "plt.axvline(1.5e42, color='r', linestyle='--', linewidth = 1)\n",
    "plt.xlabel('Lya Luminosity')\n",
    "plt.ylabel('Isophotal Area')\n",
    "plt.show()"
   ]
  },
  {
   "cell_type": "code",
   "execution_count": 42,
   "metadata": {},
   "outputs": [
    {
     "name": "stderr",
     "output_type": "stream",
     "text": [
      "/Users/jiangtianxiaoyubei/anaconda3/lib/python3.7/site-packages/ipykernel_launcher.py:3: FutureWarning:\n",
      "\n",
      "Series.data is deprecated and will be removed in a future version\n",
      "\n"
     ]
    }
   ],
   "source": [
    "lya=pd.DataFrame()\n",
    "for i in range(len(NB_2)):\n",
    "    if (NB_2.luminosity.data.obj[i]> 1.5e42) and ((NB_2.ISOAREAF_IMAGE.data.obj[i]*(0.0625))> 10):\n",
    "        lya=pd.concat([lya,NB_2.loc[i:i]],ignore_index = True)"
   ]
  },
  {
   "cell_type": "code",
   "execution_count": 43,
   "metadata": {},
   "outputs": [
    {
     "name": "stderr",
     "output_type": "stream",
     "text": [
      "/Users/jiangtianxiaoyubei/anaconda3/lib/python3.7/site-packages/ipykernel_launcher.py:1: FutureWarning:\n",
      "\n",
      "Series.data is deprecated and will be removed in a future version\n",
      "\n"
     ]
    }
   ],
   "source": [
    "lya=pd.concat([lya,DataFrame(calculate_SB(lya.cont_bw.data.obj,4135,1278,lya.ISOAREAF_IMAGE.data.obj*0.0625))],axis=1)\n",
    "\n",
    "lya.columns=['X_IMAGE','Y_IMAGE','ALPHA_J2000','DELTA_J2000','FLUX_APER','FLUXERR_APER','MAG_APER','MAGERR_APER','FLAGS','NITER_MODEL','ISOAREA_IMAGE','ISOAREAF_IMAGE','standard_mag','flux_nb','cont_flux_per_frequency','cont_flux_per_wavelength','cont_bw','line_flux','luminosity','surface_brightness']\n",
    "#???关于用到的surface brightness的delta_lambda什么的？"
   ]
  },
  {
   "cell_type": "code",
   "execution_count": 44,
   "metadata": {},
   "outputs": [
    {
     "name": "stdout",
     "output_type": "stream",
     "text": [
      "     X_IMAGE    Y_IMAGE  ALPHA_J2000  DELTA_J2000  FLUX_APER  FLUXERR_APER  \\\n",
      "0  1727.6277  1278.4437    37.689492    -0.987246   11.90827      5.202479   \n",
      "1  5165.8086  2643.7244    37.450723    -0.892409   19.93819      6.731687   \n",
      "\n",
      "   MAG_APER  MAGERR_APER  FLAGS  NITER_MODEL  ISOAREA_IMAGE  ISOAREAF_IMAGE  \\\n",
      "0   -2.6896       0.4745      0           28            229             271   \n",
      "1   -3.2492       0.3667      0           35            287             325   \n",
      "\n",
      "   standard_mag       flux_nb  cont_flux_per_frequency  \\\n",
      "0     19.965873  3.114401e-15             1.848609e-17   \n",
      "1     19.406273  5.214523e-15             3.027782e-17   \n",
      "\n",
      "   cont_flux_per_wavelength    cont_bw     line_flux    luminosity  \\\n",
      "0              1.053598e-28  21.343313  3.114401e-15  7.069691e+43   \n",
      "1              1.725656e-28  20.807614  5.214523e-15  1.183697e+44   \n",
      "\n",
      "   surface_brightness  \n",
      "0        2.231755e-14  \n",
      "1        3.047979e-14  \n"
     ]
    }
   ],
   "source": [
    "print(lya)"
   ]
  },
  {
   "cell_type": "code",
   "execution_count": 45,
   "metadata": {},
   "outputs": [
    {
     "name": "stderr",
     "output_type": "stream",
     "text": [
      "/Users/jiangtianxiaoyubei/anaconda3/lib/python3.7/site-packages/ipykernel_launcher.py:10: FutureWarning:\n",
      "\n",
      "Series.data is deprecated and will be removed in a future version\n",
      "\n"
     ]
    },
    {
     "data": {
      "text/plain": [
       "<matplotlib.collections.PathCollection at 0x7f8187dd6550>"
      ]
     },
     "execution_count": 45,
     "metadata": {},
     "output_type": "execute_result"
    },
    {
     "data": {
      "image/png": "[encoded data removed]",
      "text/plain": [
       "<Figure size 432x288 with 1 Axes>"
      ]
     },
     "metadata": {
      "needs_background": "light"
     },
     "output_type": "display_data"
    },
    {
     "data": {
      "text/plain": [
       "<Figure size 432x288 with 0 Axes>"
      ]
     },
     "metadata": {},
     "output_type": "display_data"
    }
   ],
   "source": [
    "ax = plt.subplot(projection=WCS(header))\n",
    "fig = plt.figure()\n",
    "ax.set_xlabel('RA')\n",
    "ax.set_ylabel('Dec')\n",
    "ax.imshow(datacut, origin='lower',norm=norm,cmap=plt.cm.viridis)\n",
    "ra = ax.coords[0]\n",
    "ra.set_major_formatter('hh:mm:ss')\n",
    "dec = ax.coords[1]\n",
    "dec.set_major_formatter('dd:mm:ss')\n",
    "ax.scatter(lya.X_IMAGE.data.obj, lya.Y_IMAGE.data.obj, color='', marker='o', edgecolors='r', s=200)"
   ]
  },
  {
   "cell_type": "code",
   "execution_count": 46,
   "metadata": {},
   "outputs": [],
   "source": [
    "def Gaussian2D(r, sigma):\n",
    "    return (1/(2*np.pi*sigma**2))*np.exp(-r**2/2/sigma**2)\n",
    "\n",
    "def f_i(i, x, sigma):\n",
    "    x1 = np.delete(x, i, axis=1)\n",
    "    r = np.sqrt((x[0][i]-x1[0])**2 + (x[1][i]-x1[1])**2)\n",
    "    Sum = np.sum(Gaussian2D(r, sigma))\n",
    "    return Sum\n",
    "\n",
    "def Likelyhood(x, sigma):\n",
    "    list = [f_i(i, x, sigma) for i in range(len(x[0]))]\n",
    "    Prod = np.prod(list)\n",
    "    return Prod"
   ]
  },
  {
   "cell_type": "code",
   "execution_count": 47,
   "metadata": {},
   "outputs": [],
   "source": [
    "hdu1 = fits.open('BOSS0230_Bw_cut.fits')[0]\n",
    "wcs1 = WCS(hdu1.header)#; hdu1.close()"
   ]
  },
  {
   "cell_type": "code",
   "execution_count": 48,
   "metadata": {},
   "outputs": [
    {
     "name": "stderr",
     "output_type": "stream",
     "text": [
      "/Users/jiangtianxiaoyubei/anaconda3/lib/python3.7/site-packages/ipykernel_launcher.py:1: FutureWarning:\n",
      "\n",
      "Series.data is deprecated and will be removed in a future version\n",
      "\n"
     ]
    },
    {
     "data": {
      "image/png": "[encoded data removed]",
      "text/plain": [
       "<Figure size 432x288 with 1 Axes>"
      ]
     },
     "metadata": {
      "needs_background": "light"
     },
     "output_type": "display_data"
    },
    {
     "name": "stdout",
     "output_type": "stream",
     "text": [
      "sigma is 3.0300000000000002 [arcmin]\n"
     ]
    }
   ],
   "source": [
    "ra, dec = wcs1.all_pix2world(NB_2.X_IMAGE.data.obj, NB_2.Y_IMAGE.data.obj,1)\n",
    "emitter=np.vstack([60*ra, 60*dec])#把度转换成arcmin\n",
    "\n",
    "step = 0.01\n",
    "sigma = np.arange(step, 8, step)\n",
    "Lh = [Likelyhood(emitter, s) for s in sigma]\n",
    "plt.plot(sigma,Lh)\n",
    "# plt.semilogy()\n",
    "plt.xlabel('sigma')\n",
    "plt.ylabel('Likelihood')\n",
    "plt.show()\n",
    "\n",
    "Sigma = Lh.index(max(Lh))*step+0.1\n",
    "print('sigma is {}'.format(Sigma),'[arcmin]')\n",
    "#求出做高斯分布的sigma"
   ]
  },
  {
   "cell_type": "code",
   "execution_count": 49,
   "metadata": {},
   "outputs": [
    {
     "name": "stdout",
     "output_type": "stream",
     "text": [
      "922.6493229166666 arcmin**2\n"
     ]
    }
   ],
   "source": [
    "len_ra=wcs1.array_shape[0]*0.25/60\n",
    "len_dec=wcs1.array_shape[1]*0.25/60\n",
    "\n",
    "area=len_ra*len_dec\n",
    "print(area,'arcmin**2')\n",
    "#求整个field的面积，0.25是单个pixel对应的arcsec长度,再除60就是arcmin的长度了"
   ]
  },
  {
   "cell_type": "code",
   "execution_count": 50,
   "metadata": {},
   "outputs": [
    {
     "name": "stdout",
     "output_type": "stream",
     "text": [
      "average density: 0.06286245332804362\n"
     ]
    }
   ],
   "source": [
    "ave_density=len(NB_2)/area\n",
    "print('average density:',ave_density)"
   ]
  },
  {
   "cell_type": "code",
   "execution_count": 51,
   "metadata": {},
   "outputs": [],
   "source": [
    "binwidth = 100# sampling step\n",
    "xx, yy = np.meshgrid(np.arange(0, wcs1.array_shape[0], binwidth), np.arange(0, wcs1.array_shape[1], binwidth))\n",
    "#这一步就是分成100个区域-----一万个？貌似是一万个\n",
    "ra_xx, dec_yy = wcs1.all_pix2world(xx+binwidth/2, yy+binwidth/2, 1)\n",
    "#把这几个区域的中心做出来，一开始是用pixel的x和y值表示的，然后用wcs1.all_pix2world转化成用ra与dec表示\n",
    "ra_xx, dec_yy = 60*ra_xx, 60*dec_yy\n",
    "#再乘60，单位变成arcmin\n",
    "\n",
    "f = [Gaussian2D(np.sqrt((ra_xx - emitter[0, i])**2 + (dec_yy - emitter[1, i])**2), Sigma) for i in range(len(emitter[0]))]\n",
    "#这样做出来的f中的每一行，都是1个emitter对于1w个天区做高斯平滑后得到的单独个数分布\n",
    "\n",
    "f1 = (np.sum(f, axis=0)/abs(ra_xx[0, 1]-ra_xx[0, 0])/abs((dec_yy[1, 0]-dec_yy[0, 0]))-ave_density)/ave_density\n",
    "f = np.sum(f, axis=0)/abs(ra_xx[0, 1]-ra_xx[0, 0])/abs((dec_yy[1, 0]-dec_yy[0, 0]))\n"
   ]
  },
  {
   "cell_type": "code",
   "execution_count": 52,
   "metadata": {},
   "outputs": [
    {
     "name": "stderr",
     "output_type": "stream",
     "text": [
      "/Users/jiangtianxiaoyubei/anaconda3/lib/python3.7/site-packages/astropy/visualization/wcsaxes/core.py:251: UserWarning:\n",
      "\n",
      "The following kwargs were not used by contour: 'lw'\n",
      "\n",
      "/Users/jiangtianxiaoyubei/anaconda3/lib/python3.7/site-packages/astropy/visualization/wcsaxes/core.py:225: UserWarning:\n",
      "\n",
      "The following kwargs were not used by contour: 'lw'\n",
      "\n",
      "/Users/jiangtianxiaoyubei/anaconda3/lib/python3.7/site-packages/ipykernel_launcher.py:8: FutureWarning:\n",
      "\n",
      "Series.data is deprecated and will be removed in a future version\n",
      "\n",
      "/Users/jiangtianxiaoyubei/anaconda3/lib/python3.7/site-packages/ipykernel_launcher.py:9: FutureWarning:\n",
      "\n",
      "Series.data is deprecated and will be removed in a future version\n",
      "\n"
     ]
    },
    {
     "data": {
      "text/plain": [
       "[0, 7700, 0, 6900]"
      ]
     },
     "execution_count": 52,
     "metadata": {},
     "output_type": "execute_result"
    },
    {
     "data": {
      "text/plain": [
       "<Figure size 576x576 with 0 Axes>"
      ]
     },
     "metadata": {},
     "output_type": "display_data"
    },
    {
     "data": {
      "image/png": "[encoded data removed]",
      "text/plain": [
       "<Figure size 432x288 with 1 Axes>"
      ]
     },
     "metadata": {
      "needs_background": "light"
     },
     "output_type": "display_data"
    }
   ],
   "source": [
    "fig = plt.figure(figsize=(8, 8))\n",
    "fig = plt.figure()\n",
    "ax = fig.gca(projection=wcs1)\n",
    "\n",
    "cfset = ax.contourf(xx, yy, f, cmap='coolwarm', lw=1)\n",
    "cset = ax.contour(xx, yy, f, colors='k', lw=1)\n",
    "\n",
    "ax.scatter(NB_2.X_IMAGE.data.obj, NB_2.Y_IMAGE.data.obj, marker='.', color='blue', s=25, label='LAE')\n",
    "ax.scatter(lya.X_IMAGE.data.obj, lya.Y_IMAGE.data.obj, marker='*', color='r', s=75, label='LAB')\n",
    "ax.legend()\n",
    "\n",
    "ax.clabel(cset, inline=1, fontsize=10)\n",
    "ax.set_xlabel('RA')\n",
    "ax.set_ylabel('Dec')\n",
    "\n",
    "plt.title('BOSS 0230')\n",
    "\n",
    "plt.axis([xx[0, 0], xx[0, -1], yy[0, 0], yy[-1, 0]])"
   ]
  },
  {
   "cell_type": "code",
   "execution_count": 53,
   "metadata": {},
   "outputs": [],
   "source": [
    "redshift_z=((4030-1215.7)/1215.7)\n",
    "radii_z=cosmo.comoving_distance(redshift_z)#半径\n",
    "angle_ra=len_ra/60\n",
    "angle_dec=len_dec/60\n",
    "\n",
    "length_ra=(angle_ra/180)*np.pi*radii_z\n",
    "length_dec=(angle_dec/180)*np.pi*radii_z\n",
    "area_field=length_ra*length_dec\n",
    "\n",
    "velB= (cosmo.comoving_distance(redshift_z+45/2/1215.7)-cosmo.comoving_distance(redshift_z-45/2/1215.7))\n",
    "\n",
    "volume=velB*area_field\n",
    "\n",
    "binwidth = 0.2#luminosity每隔10e0.2划分一个bin\n",
    "\n",
    "mag = np.log10(NB_2['luminosity'])\n",
    "\n",
    "exponent=np.arange(binwidth*(min(mag)//binwidth-1), binwidth*(max(mag)//binwidth+1), binwidth)\n",
    "\n",
    "y_lumi_func=np.histogram(mag, bins=exponent)[0]/volume.value\n",
    "#数密度,即y轴坐标\n",
    "\n",
    "x_lumi_func = np.power(10,np.arange(binwidth*(min(mag)//binwidth-1)+0.1, binwidth*(max(mag)//binwidth+1), binwidth))\n",
    "#x轴坐标来了！这里要注意一下把它变成和y轴一样多的，就是取两个区间中间的值！\n",
    "\n",
    "lumi_func = np.delete(np.vstack([x_lumi_func, y_lumi_func]), np.where(y_lumi_func==0) ,axis=1)\n",
    "\n",
    "error = np.sqrt(lumi_func[1]*volume.value)/volume.value#误差\n",
    "error = np.sqrt(lumi_func[1]*volume.value)/volume.value#误差\n",
    "\n",
    "def LuminoFunc(L, phi_star, L_star, alpha):\n",
    "    return (phi_star)*np.power((L/L_star),alpha)*np.exp(-L/L_star)\n",
    "#luminosity function的定义\n",
    "\n",
    "param_bounds =([10**-7., 10**40., -2], [1, 10**44., -1.0])\n",
    "\n",
    "popt_1, pcov_1 = curve_fit(LuminoFunc, lumi_func[0], lumi_func[1], p0=[10**(-4), 10**42.4, -1.3], bounds=param_bounds, maxfev=50000)\n"
   ]
  },
  {
   "cell_type": "code",
   "execution_count": 54,
   "metadata": {},
   "outputs": [
    {
     "name": "stdout",
     "output_type": "stream",
     "text": [
      "phi*= 0.0004534090924593098\n",
      "L*= 2.511886431509572e+42\n",
      "alpha= -1.3000000031675163\n"
     ]
    }
   ],
   "source": [
    "phi_star = popt_1[0]; L_star = popt_1[1]; alpha = popt_1[2]\n",
    "print('phi*=', phi_star)\n",
    "print('L*=', L_star)\n",
    "print('alpha=', alpha)\n",
    "\n",
    "xvals = np.linspace(10**42, 10**43,200)\n",
    "yvals = LuminoFunc(xvals, phi_star, L_star, alpha)\n",
    "\n",
    "#phi_star0, L_star0, alpha0 = 0.0005, 10**42.33, -1.65 #constant at z=2.3\n",
    "#phi_star0, L_star0, alpha0 = 10**(-2.86), 10**42.33, -1.65 #constant at z=2.3\n",
    "phi_star0, L_star0, alpha0 = 10**(-2.86), 10**42.33, -1.65 #constant at z=2.3\n",
    "#phi_star0, L_star0, alpha0 = 10**(-3.15), 10**42.82, -1.65 #constant at z=2.3\n",
    "v, err = integrate.quad(LuminoFunc, 0.65, 1000, args=(phi_star0, L_star0, alpha0)) # N_field\n",
    "# print('err=',err)\n",
    "# v = v * 15**3; print('random field Lya number density:', v, '/Mpc3')"
   ]
  },
  {
   "cell_type": "code",
   "execution_count": 55,
   "metadata": {},
   "outputs": [
    {
     "data": {
      "text/plain": [
       "<matplotlib.legend.Legend at 0x7f815821f898>"
      ]
     },
     "execution_count": 55,
     "metadata": {},
     "output_type": "execute_result"
    },
    {
     "data": {
      "image/png": "[encoded data removed]",
      "text/plain": [
       "<Figure size 432x288 with 1 Axes>"
      ]
     },
     "metadata": {
      "needs_background": "light"
     },
     "output_type": "display_data"
    }
   ],
   "source": [
    "fig,ax = plt.subplots()\n",
    "plt.semilogx()\n",
    "plt.semilogy()\n",
    "\n",
    "plt.scatter(lumi_func[0], lumi_func[1], color = 'black', edgecolors='black', marker='o', s=35)\n",
    "plt.errorbar(lumi_func[0], lumi_func[1], fmt='None', yerr=error, ecolor='black', capsize=4)\n",
    "plt.plot(xvals, LuminoFunc(xvals, phi_star0, L_star0, alpha0), color='b', label='random field')\n",
    "\n",
    "ax.set_xlim(10e43,10e40)\n",
    "ax.set_ylim(10e-7,10e-2)\n",
    "\n",
    "ax.invert_xaxis()\n",
    "\n",
    "plt.title('BOSS0230')\n",
    "plt.xlabel('Luminosity(ergs/sec)')\n",
    "plt.ylabel('number density ($Mpc^{-3}$)')\n",
    "plt.legend()"
   ]
  },
  {
   "cell_type": "code",
   "execution_count": 56,
   "metadata": {},
   "outputs": [
    {
     "name": "stdout",
     "output_type": "stream",
     "text": [
      "[1.25892541e+42 1.99526231e+42 3.16227766e+42 5.01187234e+42\n",
      " 7.94328235e+42 1.25892541e+43 1.99526231e+43 3.16227766e+43\n",
      " 5.01187234e+43 7.94328235e+43 1.25892541e+44]\n"
     ]
    }
   ],
   "source": [
    "print(x_lumi_func)"
   ]
  },
  {
   "cell_type": "code",
   "execution_count": null,
   "metadata": {},
   "outputs": [],
   "source": []
  },
  {
   "cell_type": "code",
   "execution_count": 57,
   "metadata": {},
   "outputs": [
    {
     "name": "stdout",
     "output_type": "stream",
     "text": [
      "     X_IMAGE    Y_IMAGE  ALPHA_J2000  DELTA_J2000  FLUX_APER  FLUXERR_APER  \\\n",
      "0  1727.6277  1278.4437    37.689492    -0.987246   11.90827      5.202479   \n",
      "1  5165.8086  2643.7244    37.450723    -0.892409   19.93819      6.731687   \n",
      "\n",
      "   MAG_APER  MAGERR_APER  FLAGS  NITER_MODEL  ISOAREA_IMAGE  ISOAREAF_IMAGE  \\\n",
      "0   -2.6896       0.4745      0           28            229             271   \n",
      "1   -3.2492       0.3667      0           35            287             325   \n",
      "\n",
      "   standard_mag       flux_nb  cont_flux_per_frequency  \\\n",
      "0     19.965873  3.114401e-15             1.848609e-17   \n",
      "1     19.406273  5.214523e-15             3.027782e-17   \n",
      "\n",
      "   cont_flux_per_wavelength    cont_bw     line_flux    luminosity  \\\n",
      "0              1.053598e-28  21.343313  3.114401e-15  7.069691e+43   \n",
      "1              1.725656e-28  20.807614  5.214523e-15  1.183697e+44   \n",
      "\n",
      "   surface_brightness  \n",
      "0        2.231755e-14  \n",
      "1        3.047979e-14  \n"
     ]
    }
   ],
   "source": [
    "print(lya)"
   ]
  },
  {
   "cell_type": "code",
   "execution_count": 58,
   "metadata": {},
   "outputs": [
    {
     "name": "stderr",
     "output_type": "stream",
     "text": [
      "/Users/jiangtianxiaoyubei/anaconda3/lib/python3.7/site-packages/ipykernel_launcher.py:7: FutureWarning:\n",
      "\n",
      "Series.data is deprecated and will be removed in a future version\n",
      "\n",
      "/Users/jiangtianxiaoyubei/anaconda3/lib/python3.7/site-packages/ipykernel_launcher.py:9: FutureWarning:\n",
      "\n",
      "Series.data is deprecated and will be removed in a future version\n",
      "\n"
     ]
    }
   ],
   "source": [
    "with open(\"BOSS0230_coord.reg\",'w+',newline='') as txtfile:\n",
    "    txtfile.write('# Region file format: DS9 version 4.1\\n')\n",
    "    txtfile.write('global color=green dashlist=8 3 width=1 font=\"helvetica 10 normal roman\" select=1 highlite=1 dash=0 fixed=0 edit=1 move=1 delete=1 include=1 source=1\\n')\n",
    "    txtfile.write('fk5\\n')\n",
    "    for i in range(len(lya)):\n",
    "        txtfile.write('circle(')\n",
    "        txtfile.write(str(lya.ALPHA_J2000.data.obj[i]))\n",
    "        txtfile.write(',')\n",
    "        txtfile.write(str(lya.DELTA_J2000.data.obj[i]))\n",
    "        txtfile.write(',2.821\")\\n')"
   ]
  },
  {
   "cell_type": "code",
   "execution_count": null,
   "metadata": {},
   "outputs": [],
   "source": []
  },
  {
   "cell_type": "code",
   "execution_count": 59,
   "metadata": {},
   "outputs": [
    {
     "name": "stderr",
     "output_type": "stream",
     "text": [
      "/Users/jiangtianxiaoyubei/anaconda3/lib/python3.7/site-packages/ipykernel_launcher.py:3: FutureWarning:\n",
      "\n",
      "Series.data is deprecated and will be removed in a future version\n",
      "\n"
     ]
    }
   ],
   "source": [
    "bw_sub_nb=[]\n",
    "for i in range(len(NB_1)):\n",
    "    bw_sub_nb.append(Bw_1.standard_mag.data.obj[i]-NB_1.standard_mag.data.obj[i])\n"
   ]
  },
  {
   "cell_type": "code",
   "execution_count": 60,
   "metadata": {},
   "outputs": [
    {
     "name": "stderr",
     "output_type": "stream",
     "text": [
      "/Users/jiangtianxiaoyubei/anaconda3/lib/python3.7/site-packages/ipykernel_launcher.py:5: FutureWarning:\n",
      "\n",
      "Series.data is deprecated and will be removed in a future version\n",
      "\n",
      "/Users/jiangtianxiaoyubei/anaconda3/lib/python3.7/site-packages/ipykernel_launcher.py:7: FutureWarning:\n",
      "\n",
      "Series.data is deprecated and will be removed in a future version\n",
      "\n"
     ]
    }
   ],
   "source": [
    "y_diff=[]\n",
    "x_nbv=[]\n",
    "\n",
    "for i in range(len(bw_sub_nb)):\n",
    "    if (bw_sub_nb[i] > 0.87) & (NB_1.standard_mag.data[i] < 24.3) & (NB_1.standard_mag.data[i] > 18):\n",
    "        y_diff.append(bw_sub_nb[i])\n",
    "        x_nbv.append(NB_1.standard_mag.data[i])\n",
    "        "
   ]
  },
  {
   "cell_type": "code",
   "execution_count": 61,
   "metadata": {},
   "outputs": [
    {
     "name": "stderr",
     "output_type": "stream",
     "text": [
      "/Users/jiangtianxiaoyubei/anaconda3/lib/python3.7/site-packages/ipykernel_launcher.py:5: FutureWarning:\n",
      "\n",
      "Series.data is deprecated and will be removed in a future version\n",
      "\n"
     ]
    },
    {
     "data": {
      "text/plain": [
       "<Figure size 432x288 with 0 Axes>"
      ]
     },
     "metadata": {},
     "output_type": "display_data"
    },
    {
     "data": {
      "image/png": "[encoded data removed]",
      "text/plain": [
       "<Figure size 576x432 with 3 Axes>"
      ]
     },
     "metadata": {
      "needs_background": "light"
     },
     "output_type": "display_data"
    }
   ],
   "source": [
    "fig = plt.figure()\n",
    "\n",
    "fig, ax1 = plt.subplots(figsize=(8, 6))\n",
    "\n",
    "ax1.scatter(NB_1.standard_mag.data, bw_sub_nb, color = 'k', s=0.1)\n",
    "ax1.scatter(x_nbv,y_diff, color = 'b', s=0.1)\n",
    "\n",
    "ax1.set_xlim([12,30])\n",
    "ax1.set_ylim([-2,4])\n",
    "\n",
    "ax1.axhline(0, color='k', linestyle='--', linewidth = 1)\n",
    "ax1.axhline(0.87, color='r', linestyle='--', linewidth = 1)\n",
    "ax1.axvline(24.3, color='r', linestyle='--', linewidth = 1)\n",
    "\n",
    "ax1.set_xlabel('NB403',fontdict={'weight': 'normal', 'size': 13})\n",
    "ax1.set_ylabel('$\\mathregular{B_W^{cont}}$ - NB403',fontdict={'weight': 'normal', 'size': 13})\n",
    "\n",
    "\n",
    "ax2=ax1.twinx()\n",
    "ax3=ax1.twiny()\n",
    "\n",
    "ax3.set_xlim([12,30])\n",
    "ax2.set_ylim([-2,4])\n",
    "\n",
    "ax3.xaxis.set_ticklabels([])\n",
    "ax2.yaxis.set_ticklabels([])\n",
    "\n",
    "#ax3.set_xlabel('Flux',fontdict={'weight': 'normal', 'size': 13})\n",
    "#ax2.set_ylabel('EW',fontdict={'weight': 'normal', 'size': 13})\n",
    "\n",
    "#ax3.semilogx()\n",
    "\n",
    "plt.rcParams['xtick.direction'] = 'in'\n",
    "plt.rcParams['ytick.direction'] = 'in'\n",
    "\n",
    "plt.title('BOSS 0230')\n",
    "plt.show()\n"
   ]
  },
  {
   "cell_type": "code",
   "execution_count": 62,
   "metadata": {},
   "outputs": [
    {
     "data": {
      "text/plain": [
       "<Figure size 432x288 with 0 Axes>"
      ]
     },
     "metadata": {},
     "output_type": "display_data"
    },
    {
     "data": {
      "image/png": "[encoded data removed]",
      "text/plain": [
       "<Figure size 576x432 with 3 Axes>"
      ]
     },
     "metadata": {
      "needs_background": "light"
     },
     "output_type": "display_data"
    }
   ],
   "source": [
    "fig = plt.figure()\n",
    "fig, ax1 = plt.subplots(figsize=(8, 6))\n",
    "\n",
    "\n",
    "ax1.semilogx()\n",
    "ax1.scatter(NB_2.luminosity,NB_2.ISOAREAF_IMAGE*(0.0625), color = 'k', s=0.1)\n",
    "ax1.scatter(lya.luminosity,lya.ISOAREAF_IMAGE*(0.0625),color = 'r', s=5)\n",
    "ax1.axhline(15, color='r', linestyle='--', linewidth = 1)\n",
    "ax1.axvline(1.5e43, color='r', linestyle='--', linewidth = 1)\n",
    "ax1.set_xlabel('Lya Luminosity[$\\mathregular{ergs \\quad s^{-1}}$]',fontdict={'weight': 'normal', 'size': 13})\n",
    "ax1.set_ylabel('Isophotal Area[□\\'\\'] ',fontdict={'weight': 'normal', 'size': 13})\n",
    "ax1.set_xlim([1e42,1e45])\n",
    "ax1.set_ylim([0,100])\n",
    "\n",
    "\n",
    "ax2=ax1.twinx()\n",
    "ax3=ax1.twiny()\n",
    "\n",
    "ax3.semilogx()\n",
    "ax3.set_xlim([1e42,1e45])\n",
    "ax2.set_ylim([0,100])\n",
    "\n",
    "ax3.xaxis.set_ticklabels([])\n",
    "ax2.yaxis.set_ticklabels([])\n",
    "\n",
    "plt.title('BOSS 0230')\n",
    "plt.show()"
   ]
  },
  {
   "cell_type": "code",
   "execution_count": 63,
   "metadata": {},
   "outputs": [
    {
     "name": "stderr",
     "output_type": "stream",
     "text": [
      "/Users/jiangtianxiaoyubei/anaconda3/lib/python3.7/site-packages/astropy/visualization/wcsaxes/core.py:251: UserWarning:\n",
      "\n",
      "The following kwargs were not used by contour: 'lw'\n",
      "\n",
      "/Users/jiangtianxiaoyubei/anaconda3/lib/python3.7/site-packages/astropy/visualization/wcsaxes/core.py:225: UserWarning:\n",
      "\n",
      "The following kwargs were not used by contour: 'lw'\n",
      "\n",
      "/Users/jiangtianxiaoyubei/anaconda3/lib/python3.7/site-packages/ipykernel_launcher.py:7: FutureWarning:\n",
      "\n",
      "Series.data is deprecated and will be removed in a future version\n",
      "\n",
      "/Users/jiangtianxiaoyubei/anaconda3/lib/python3.7/site-packages/ipykernel_launcher.py:8: FutureWarning:\n",
      "\n",
      "Series.data is deprecated and will be removed in a future version\n",
      "\n"
     ]
    },
    {
     "data": {
      "text/plain": [
       "[0, 7700, 0, 6900]"
      ]
     },
     "execution_count": 63,
     "metadata": {},
     "output_type": "execute_result"
    },
    {
     "data": {
      "image/png": "[encoded data removed]",
      "text/plain": [
       "<Figure size 576x432 with 1 Axes>"
      ]
     },
     "metadata": {
      "needs_background": "light"
     },
     "output_type": "display_data"
    }
   ],
   "source": [
    "fig = plt.figure(figsize=(8, 6))\n",
    "ax = fig.gca(projection=wcs1)\n",
    "\n",
    "cfset = ax.contourf(xx, yy, f, cmap='coolwarm', lw=1)\n",
    "cset = ax.contour(xx, yy, f, colors='k', lw=1)\n",
    "\n",
    "ax.scatter(NB_2.X_IMAGE.data.obj, NB_2.Y_IMAGE.data.obj, marker='.', color='blue', s=25, label='LAE')\n",
    "ax.scatter(lya.X_IMAGE.data.obj, lya.Y_IMAGE.data.obj, marker='*', color='r', s=75, label='LAB')\n",
    "ax.legend()\n",
    "\n",
    "ax.clabel(cset, inline=1, fontsize=10)\n",
    "ax.set_xlabel('RA[deg]',fontdict={'weight': 'normal', 'size': 13})\n",
    "ax.set_ylabel('Dec[deg]',fontdict={'weight': 'normal', 'size': 13})\n",
    "\n",
    "plt.title('BOSS 0230')\n",
    "\n",
    "plt.axis([xx[0, 0], xx[0, -1], yy[0, 0], yy[-1, 0]])"
   ]
  },
  {
   "cell_type": "code",
   "execution_count": 64,
   "metadata": {},
   "outputs": [
    {
     "data": {
      "text/plain": [
       "<matplotlib.legend.Legend at 0x7f81b8e49550>"
      ]
     },
     "execution_count": 64,
     "metadata": {},
     "output_type": "execute_result"
    },
    {
     "data": {
      "image/png": "[encoded data removed]",
      "text/plain": [
       "<Figure size 576x432 with 3 Axes>"
      ]
     },
     "metadata": {
      "needs_background": "light"
     },
     "output_type": "display_data"
    }
   ],
   "source": [
    "fig,ax1 = plt.subplots(figsize=(8, 6))\n",
    "ax1.semilogx()\n",
    "ax1.semilogy()\n",
    "\n",
    "ax1.scatter(lumi_func[0], lumi_func[1], color = 'black', edgecolors='black', marker='o', s=35)\n",
    "ax1.errorbar(lumi_func[0], lumi_func[1], fmt='None', yerr=error, ecolor='black', capsize=4)\n",
    "ax1.plot(xvals, LuminoFunc(xvals, phi_star0, L_star0, alpha0), color='b', label='z=2.063')\n",
    "\n",
    "ax1.set_xlim(1e44,10**(41.5))\n",
    "ax1.set_ylim(10e-7,10e-2)\n",
    "\n",
    "ax1.invert_xaxis()\n",
    "\n",
    "ax2=ax1.twinx()\n",
    "ax3=ax1.twiny()\n",
    "\n",
    "ax3.semilogx()\n",
    "ax2.semilogy()\n",
    "ax3.set_xlim(1e44,10**(41.5))\n",
    "ax2.set_ylim(10e-7,10e-2)\n",
    "\n",
    "ax3.xaxis.set_ticklabels([])\n",
    "ax2.yaxis.set_ticklabels([])\n",
    "\n",
    "plt.title('BOSS 0230')\n",
    "ax1.set_xlabel('Luminosity[$\\mathregular{ergs \\quad s^{-1}}$]',fontdict={'weight': 'normal', 'size': 13})\n",
    "ax1.set_ylabel('number density ($\\mathregular{Mpc^{-3}}$)',fontdict={'weight': 'normal', 'size': 13})\n",
    "ax1.legend()"
   ]
  },
  {
   "cell_type": "code",
   "execution_count": 65,
   "metadata": {},
   "outputs": [
    {
     "name": "stdout",
     "output_type": "stream",
     "text": [
      "15.470930854216263\n",
      "-0.989892916100793\n",
      "16\n",
      "-1\n"
     ]
    }
   ],
   "source": [
    "max_array=[]\n",
    "min_array=[]\n",
    "for i in range(len(f1)):\n",
    "    max_array.append(max(f1[i]))\n",
    "    min_array.append(min(f1[i]))\n",
    "print(max(max_array))\n",
    "print(min(min_array))\n",
    "\n",
    "max_overdensity=math.ceil(max(max_array))\n",
    "min_overdensity=math.floor(min(min_array))\n",
    "print(max_overdensity)\n",
    "print(min_overdensity)"
   ]
  },
  {
   "cell_type": "code",
   "execution_count": 66,
   "metadata": {},
   "outputs": [
    {
     "name": "stderr",
     "output_type": "stream",
     "text": [
      "/Users/jiangtianxiaoyubei/anaconda3/lib/python3.7/site-packages/ipykernel_launcher.py:3: FutureWarning:\n",
      "\n",
      "Series.data is deprecated and will be removed in a future version\n",
      "\n"
     ]
    }
   ],
   "source": [
    "blob=pd.DataFrame(columns = ['density'])\n",
    "for i in range(len(lya)):\n",
    "    new={'density':f1[int((lya.Y_IMAGE.data.obj[i]/100)),int((lya.X_IMAGE.data.obj[i]/100))]}\n",
    "    blob=blob.append(new,ignore_index=True)"
   ]
  },
  {
   "cell_type": "code",
   "execution_count": 67,
   "metadata": {},
   "outputs": [
    {
     "data": {
      "image/png": "[encoded data removed]",
      "text/plain": [
       "<Figure size 576x432 with 3 Axes>"
      ]
     },
     "metadata": {
      "needs_background": "light"
     },
     "output_type": "display_data"
    }
   ],
   "source": [
    "binwidth = 1\n",
    "\n",
    "x = np.arange(min_overdensity,max_overdensity,1)\n",
    "y = np.histogram(blob['density'], bins=np.arange(-1,max_overdensity+1))[0]\n",
    "\n",
    "\n",
    "X = np.delete(np.vstack([x, y]), np.where(y==0) ,axis=1)\n",
    "error = np.sqrt(X[1])\n",
    "\n",
    "fig,ax1 = plt.subplots(figsize=(8, 6))\n",
    "\n",
    "ax1.hist(blob['density'], histtype='step', bins=np.arange(-1,max_overdensity+1), color='r')\n",
    "ax1.legend(['LAB'])\n",
    "ax1.errorbar(X[0]+0.5, X[1], fmt='None', yerr=error, ecolor='r')\n",
    "ax1.set_xlabel('overdensity',fontdict={'weight': 'normal', 'size': 13})\n",
    "ax1.set_ylabel('number of LABs',fontdict={'weight': 'normal', 'size': 13})\n",
    "\n",
    "\n",
    "#[$\\mathregular{arcmin^{-1} \\quad △z^{-1}}$]\n",
    "\n",
    "ax1.set_xlim(min_overdensity,max_overdensity)\n",
    "ax1.set_ylim(0,10)\n",
    "\n",
    "\n",
    "ax2=ax1.twinx()\n",
    "ax3=ax1.twiny()\n",
    "\n",
    "ax3.set_xlim(min_overdensity,max_overdensity)\n",
    "ax2.set_ylim(0,10)\n",
    "\n",
    "ax3.xaxis.set_ticklabels([])\n",
    "ax2.yaxis.set_ticklabels([])\n",
    "\n",
    "\n",
    "plt.title('BOSS 0230')\n",
    "plt.tight_layout()\n",
    "plt.show()"
   ]
  },
  {
   "cell_type": "code",
   "execution_count": 68,
   "metadata": {},
   "outputs": [
    {
     "name": "stdout",
     "output_type": "stream",
     "text": [
      "     X_IMAGE    Y_IMAGE  ALPHA_J2000  DELTA_J2000  FLUX_APER  FLUXERR_APER  \\\n",
      "0  1727.6277  1278.4437    37.689492    -0.987246   11.90827      5.202479   \n",
      "1  5165.8086  2643.7244    37.450723    -0.892409   19.93819      6.731687   \n",
      "\n",
      "   MAG_APER  MAGERR_APER  FLAGS  NITER_MODEL  ISOAREA_IMAGE  ISOAREAF_IMAGE  \\\n",
      "0   -2.6896       0.4745      0           28            229             271   \n",
      "1   -3.2492       0.3667      0           35            287             325   \n",
      "\n",
      "   standard_mag       flux_nb  cont_flux_per_frequency  \\\n",
      "0     19.965873  3.114401e-15             1.848609e-17   \n",
      "1     19.406273  5.214523e-15             3.027782e-17   \n",
      "\n",
      "   cont_flux_per_wavelength    cont_bw     line_flux    luminosity  \\\n",
      "0              1.053598e-28  21.343313  3.114401e-15  7.069691e+43   \n",
      "1              1.725656e-28  20.807614  5.214523e-15  1.183697e+44   \n",
      "\n",
      "   surface_brightness  \n",
      "0        2.231755e-14  \n",
      "1        3.047979e-14  \n"
     ]
    }
   ],
   "source": [
    "print(lya)"
   ]
  },
  {
   "cell_type": "code",
   "execution_count": 69,
   "metadata": {},
   "outputs": [
    {
     "name": "stderr",
     "output_type": "stream",
     "text": [
      "/Users/jiangtianxiaoyubei/anaconda3/lib/python3.7/site-packages/ipykernel_launcher.py:1: FutureWarning:\n",
      "\n",
      "Series.data is deprecated and will be removed in a future version\n",
      "\n",
      "/Users/jiangtianxiaoyubei/anaconda3/lib/python3.7/site-packages/ipykernel_launcher.py:3: FutureWarning:\n",
      "\n",
      "Series.data is deprecated and will be removed in a future version\n",
      "\n",
      "/Users/jiangtianxiaoyubei/anaconda3/lib/python3.7/site-packages/ipykernel_launcher.py:4: FutureWarning:\n",
      "\n",
      "Series.data is deprecated and will be removed in a future version\n",
      "\n",
      "/Users/jiangtianxiaoyubei/anaconda3/lib/python3.7/site-packages/ipykernel_launcher.py:5: FutureWarning:\n",
      "\n",
      "Series.data is deprecated and will be removed in a future version\n",
      "\n",
      "/Users/jiangtianxiaoyubei/anaconda3/lib/python3.7/site-packages/ipykernel_launcher.py:6: FutureWarning:\n",
      "\n",
      "Series.data is deprecated and will be removed in a future version\n",
      "\n",
      "/Users/jiangtianxiaoyubei/anaconda3/lib/python3.7/site-packages/ipykernel_launcher.py:9: FutureWarning:\n",
      "\n",
      "Series.data is deprecated and will be removed in a future version\n",
      "\n",
      "/Users/jiangtianxiaoyubei/anaconda3/lib/python3.7/site-packages/ipykernel_launcher.py:10: FutureWarning:\n",
      "\n",
      "Series.data is deprecated and will be removed in a future version\n",
      "\n"
     ]
    },
    {
     "name": "stdout",
     "output_type": "stream",
     "text": [
      "x_image: 1727.6277 \n",
      "\n",
      "y_image: 1278.4437 \n",
      "\n",
      "RA: 37.689491700000005 \n",
      "\n",
      "DEC: -0.9872464 \n",
      "\n",
      "continuum_bw_magnitude 21.343313031746597 \n",
      "\n",
      "surface_brightness: 2.2317551339585178e-14 \n",
      "\n"
     ]
    },
    {
     "data": {
      "image/png": "[encoded data removed]",
      "text/plain": [
       "<Figure size 432x288 with 1 Axes>"
      ]
     },
     "metadata": {
      "needs_background": "light"
     },
     "output_type": "display_data"
    },
    {
     "data": {
      "image/png": "[encoded data removed]",
      "text/plain": [
       "<Figure size 432x288 with 1 Axes>"
      ]
     },
     "metadata": {
      "needs_background": "light"
     },
     "output_type": "display_data"
    },
    {
     "data": {
      "image/png": "[encoded data removed]",
      "text/plain": [
       "<Figure size 432x288 with 1 Axes>"
      ]
     },
     "metadata": {
      "needs_background": "light"
     },
     "output_type": "display_data"
    }
   ],
   "source": [
    "show_nebula(data,data2,datacut,lya.X_IMAGE.data.obj[0],lya.Y_IMAGE.data.obj[0],25)\n",
    "\n",
    "print('x_image:',lya.X_IMAGE.data.obj[0],'\\n')\n",
    "print('y_image:',lya.Y_IMAGE.data.obj[0],'\\n')\n",
    "print('RA:',lya.ALPHA_J2000.data.obj[0],'\\n')\n",
    "print('DEC:',lya.DELTA_J2000.data.obj[0],'\\n')\n",
    "#print('bw_magnitude:',lya.mag_bw.data.obj[0],'\\n')\n",
    "#print('nb_magnitude',lya.mag_nb.data.obj[0],'\\n')\n",
    "print('continuum_bw_magnitude',lya.cont_bw.data.obj[0],'\\n')\n",
    "print('surface_brightness:',lya.surface_brightness.data.obj[0],'\\n')"
   ]
  },
  {
   "cell_type": "code",
   "execution_count": 70,
   "metadata": {},
   "outputs": [
    {
     "name": "stderr",
     "output_type": "stream",
     "text": [
      "/Users/jiangtianxiaoyubei/anaconda3/lib/python3.7/site-packages/ipykernel_launcher.py:1: FutureWarning:\n",
      "\n",
      "Series.data is deprecated and will be removed in a future version\n",
      "\n",
      "/Users/jiangtianxiaoyubei/anaconda3/lib/python3.7/site-packages/ipykernel_launcher.py:3: FutureWarning:\n",
      "\n",
      "Series.data is deprecated and will be removed in a future version\n",
      "\n",
      "/Users/jiangtianxiaoyubei/anaconda3/lib/python3.7/site-packages/ipykernel_launcher.py:4: FutureWarning:\n",
      "\n",
      "Series.data is deprecated and will be removed in a future version\n",
      "\n",
      "/Users/jiangtianxiaoyubei/anaconda3/lib/python3.7/site-packages/ipykernel_launcher.py:5: FutureWarning:\n",
      "\n",
      "Series.data is deprecated and will be removed in a future version\n",
      "\n",
      "/Users/jiangtianxiaoyubei/anaconda3/lib/python3.7/site-packages/ipykernel_launcher.py:6: FutureWarning:\n",
      "\n",
      "Series.data is deprecated and will be removed in a future version\n",
      "\n",
      "/Users/jiangtianxiaoyubei/anaconda3/lib/python3.7/site-packages/ipykernel_launcher.py:9: FutureWarning:\n",
      "\n",
      "Series.data is deprecated and will be removed in a future version\n",
      "\n",
      "/Users/jiangtianxiaoyubei/anaconda3/lib/python3.7/site-packages/ipykernel_launcher.py:10: FutureWarning:\n",
      "\n",
      "Series.data is deprecated and will be removed in a future version\n",
      "\n"
     ]
    },
    {
     "name": "stdout",
     "output_type": "stream",
     "text": [
      "x_image: 5165.8086 \n",
      "\n",
      "y_image: 2643.7244 \n",
      "\n",
      "RA: 37.45072329999999 \n",
      "\n",
      "DEC: -0.8924088 \n",
      "\n",
      "continuum_bw_magnitude 20.80761419821126 \n",
      "\n",
      "surface_brightness: 3.0479792480419654e-14 \n",
      "\n"
     ]
    },
    {
     "data": {
      "image/png": "[encoded data removed]",
      "text/plain": [
       "<Figure size 432x288 with 1 Axes>"
      ]
     },
     "metadata": {
      "needs_background": "light"
     },
     "output_type": "display_data"
    },
    {
     "data": {
      "image/png": "[encoded data removed]",
      "text/plain": [
       "<Figure size 432x288 with 1 Axes>"
      ]
     },
     "metadata": {
      "needs_background": "light"
     },
     "output_type": "display_data"
    },
    {
     "data": {
      "image/png": "[encoded data removed]",
      "text/plain": [
       "<Figure size 432x288 with 1 Axes>"
      ]
     },
     "metadata": {
      "needs_background": "light"
     },
     "output_type": "display_data"
    }
   ],
   "source": [
    "show_nebula(data,data2,datacut,lya.X_IMAGE.data.obj[1],lya.Y_IMAGE.data.obj[1],25)\n",
    "\n",
    "print('x_image:',lya.X_IMAGE.data.obj[1],'\\n')\n",
    "print('y_image:',lya.Y_IMAGE.data.obj[1],'\\n')\n",
    "print('RA:',lya.ALPHA_J2000.data.obj[1],'\\n')\n",
    "print('DEC:',lya.DELTA_J2000.data.obj[1],'\\n')\n",
    "#print('bw_magnitude:',lya.mag_bw.data.obj[1],'\\n')\n",
    "#print('nb_magnitude',lya.mag_nb.data.obj[1],'\\n')\n",
    "print('continuum_bw_magnitude',lya.cont_bw.data.obj[1],'\\n')\n",
    "print('surface_brightness:',lya.surface_brightness.data.obj[1],'\\n')"
   ]
  },
  {
   "cell_type": "code",
   "execution_count": null,
   "metadata": {},
   "outputs": [],
   "source": []
  },
  {
   "cell_type": "code",
   "execution_count": 82,
   "metadata": {},
   "outputs": [],
   "source": [
    "L_NB2=len(NB_2)\n",
    "with open(\"LAE0230NB.cat\",'w+',newline='') as txtfile:\n",
    "    \n",
    "    txtfile.write(str(NB_2[0:L_NB2]))"
   ]
  },
  {
   "cell_type": "code",
   "execution_count": null,
   "metadata": {},
   "outputs": [],
   "source": []
  },
  {
   "cell_type": "code",
   "execution_count": 71,
   "metadata": {},
   "outputs": [
    {
     "data": {
      "text/plain": [
       "0.03701571111293944"
      ]
     },
     "execution_count": 71,
     "metadata": {},
     "output_type": "execute_result"
    }
   ],
   "source": [
    "(redshift_z+45/2/1215.7)-(redshift_z-45/2/1215.7)"
   ]
  },
  {
   "cell_type": "code",
   "execution_count": null,
   "metadata": {},
   "outputs": [],
   "source": []
  },
  {
   "cell_type": "code",
   "execution_count": 72,
   "metadata": {},
   "outputs": [],
   "source": [
    "rms_nb=[0.00424,0.00448]\n",
    "rms_bw=[0.0535,0.0510]"
   ]
  },
  {
   "cell_type": "code",
   "execution_count": 73,
   "metadata": {},
   "outputs": [],
   "source": [
    "mag_noise_nb=[]\n",
    "mag_noise_bw=[]\n",
    "for i in range(len(rms_bw)):\n",
    "    mag_noise_nb.append(np.log(rms_nb[i])+zp_nb)\n",
    "    mag_noise_bw.append(np.log(rms_bw[i])+zp_bw)"
   ]
  },
  {
   "cell_type": "code",
   "execution_count": 74,
   "metadata": {},
   "outputs": [],
   "source": [
    "flux_nb_noise=[]\n",
    "flux_bw_noise=[]\n",
    "\n",
    "for i in range(len(rms_bw)):\n",
    "    flux_nb_noise.append(calculate_flux(mag_noise_nb[i],4030,45))\n",
    "    flux_bw_noise.append(calculate_flux(mag_noise_bw[i],4135,1287))"
   ]
  },
  {
   "cell_type": "code",
   "execution_count": 75,
   "metadata": {},
   "outputs": [
    {
     "name": "stdout",
     "output_type": "stream",
     "text": [
      "[-2.932208382240521e-17, -2.7572080723766496e-17]\n"
     ]
    }
   ],
   "source": [
    "xx=[]\n",
    "for i in range(len(rms_bw)):\n",
    "    xx.append(calculate_continuum_flux_density(flux_bw_noise[i],flux_nb_noise[i],1278,45))\n",
    "    \n",
    "print(xx)"
   ]
  },
  {
   "cell_type": "code",
   "execution_count": 76,
   "metadata": {},
   "outputs": [],
   "source": [
    "distance=math.sqrt(2.27e43/(1e-15*4*math.pi))"
   ]
  },
  {
   "cell_type": "code",
   "execution_count": 77,
   "metadata": {},
   "outputs": [],
   "source": [
    "error_lumi=[]\n",
    "for i in range(len(xx)):\n",
    "    error_lumi.append(xx[i]*4*math.pi*distance**2)"
   ]
  },
  {
   "cell_type": "code",
   "execution_count": 78,
   "metadata": {},
   "outputs": [
    {
     "name": "stdout",
     "output_type": "stream",
     "text": [
      "[-6.656113027685983e+41, -6.258862324294995e+41]\n"
     ]
    }
   ],
   "source": [
    "print(error_lumi)"
   ]
  },
  {
   "cell_type": "code",
   "execution_count": null,
   "metadata": {},
   "outputs": [],
   "source": []
  },
  {
   "cell_type": "code",
   "execution_count": null,
   "metadata": {},
   "outputs": [],
   "source": []
  },
  {
   "cell_type": "code",
   "execution_count": null,
   "metadata": {},
   "outputs": [],
   "source": []
  },
  {
   "cell_type": "code",
   "execution_count": null,
   "metadata": {},
   "outputs": [],
   "source": []
  },
  {
   "cell_type": "code",
   "execution_count": 79,
   "metadata": {},
   "outputs": [
    {
     "name": "stdout",
     "output_type": "stream",
     "text": [
      "42564\n",
      "58\n"
     ]
    }
   ],
   "source": [
    "print(len(NB_1))\n",
    "print(len(NB_2))"
   ]
  },
  {
   "cell_type": "code",
   "execution_count": null,
   "metadata": {},
   "outputs": [],
   "source": []
  },
  {
   "cell_type": "code",
   "execution_count": 80,
   "metadata": {},
   "outputs": [
    {
     "name": "stderr",
     "output_type": "stream",
     "text": [
      "/Users/jiangtianxiaoyubei/anaconda3/lib/python3.7/site-packages/ipykernel_launcher.py:7: FutureWarning:\n",
      "\n",
      "Series.data is deprecated and will be removed in a future version\n",
      "\n",
      "/Users/jiangtianxiaoyubei/anaconda3/lib/python3.7/site-packages/ipykernel_launcher.py:8: FutureWarning:\n",
      "\n",
      "Series.data is deprecated and will be removed in a future version\n",
      "\n",
      "/Users/jiangtianxiaoyubei/anaconda3/lib/python3.7/site-packages/ipykernel_launcher.py:9: FutureWarning:\n",
      "\n",
      "Series.data is deprecated and will be removed in a future version\n",
      "\n",
      "/Users/jiangtianxiaoyubei/anaconda3/lib/python3.7/site-packages/ipykernel_launcher.py:10: FutureWarning:\n",
      "\n",
      "Series.data is deprecated and will be removed in a future version\n",
      "\n"
     ]
    }
   ],
   "source": [
    "y_lower_limit=[]\n",
    "y_upper_limit=[]\n",
    "x_lower_limit=[]\n",
    "x_upper_limit=[]\n",
    "\n",
    "for i in range(len(lya)):\n",
    "    y_lower_limit.append(int(lya.Y_IMAGE.data.obj[i])-50)\n",
    "    y_upper_limit.append(int(lya.Y_IMAGE.data.obj[i])+50)\n",
    "    x_lower_limit.append(int(lya.X_IMAGE.data.obj[i])-50)\n",
    "    x_upper_limit.append(int(lya.X_IMAGE.data.obj[i])+50)"
   ]
  },
  {
   "cell_type": "code",
   "execution_count": 81,
   "metadata": {},
   "outputs": [],
   "source": [
    "data_lya1_bw=data[y_lower_limit[0]:y_upper_limit[0], x_lower_limit[0]:x_upper_limit[0]]"
   ]
  },
  {
   "cell_type": "code",
   "execution_count": 82,
   "metadata": {},
   "outputs": [],
   "source": [
    "hdu = fits.PrimaryHDU(data_lya1_bw)\n",
    "hdu.header=header\n",
    "hdul = fits.HDUList([hdu])\n",
    "hdul.writeto('BOSS0230-1_bw.fits')"
   ]
  },
  {
   "cell_type": "code",
   "execution_count": 83,
   "metadata": {},
   "outputs": [],
   "source": [
    "data_lya1_nb=data2[y_lower_limit[0]:y_upper_limit[0], x_lower_limit[0]:x_upper_limit[0]]"
   ]
  },
  {
   "cell_type": "code",
   "execution_count": 84,
   "metadata": {},
   "outputs": [],
   "source": [
    "hdu = fits.PrimaryHDU(data_lya1_nb)\n",
    "hdu.header=header2\n",
    "hdul = fits.HDUList([hdu])\n",
    "hdul.writeto('BOSS0230-1_nb.fits')"
   ]
  },
  {
   "cell_type": "code",
   "execution_count": null,
   "metadata": {},
   "outputs": [],
   "source": []
  },
  {
   "cell_type": "code",
   "execution_count": 85,
   "metadata": {},
   "outputs": [],
   "source": [
    "data_lya2_bw=data[y_lower_limit[1]:y_upper_limit[1], x_lower_limit[1]:x_upper_limit[1]]"
   ]
  },
  {
   "cell_type": "code",
   "execution_count": 86,
   "metadata": {},
   "outputs": [],
   "source": [
    "hdu = fits.PrimaryHDU(data_lya2_bw)\n",
    "hdu.header=header\n",
    "hdul = fits.HDUList([hdu])\n",
    "hdul.writeto('BOSS0230-2_bw.fits')"
   ]
  },
  {
   "cell_type": "code",
   "execution_count": 87,
   "metadata": {},
   "outputs": [],
   "source": [
    "data_lya2_nb=data2[y_lower_limit[1]:y_upper_limit[1], x_lower_limit[1]:x_upper_limit[1]]"
   ]
  },
  {
   "cell_type": "code",
   "execution_count": 88,
   "metadata": {},
   "outputs": [],
   "source": [
    "hdu = fits.PrimaryHDU(data_lya2_nb)\n",
    "hdu.header=header\n",
    "hdul = fits.HDUList([hdu])\n",
    "hdul.writeto('BOSS0230-2_nb.fits')"
   ]
  },
  {
   "cell_type": "code",
   "execution_count": null,
   "metadata": {},
   "outputs": [],
   "source": []
  },
  {
   "cell_type": "code",
   "execution_count": null,
   "metadata": {},
   "outputs": [],
   "source": []
  },
  {
   "cell_type": "code",
   "execution_count": null,
   "metadata": {},
   "outputs": [],
   "source": []
  },
  {
   "cell_type": "code",
   "execution_count": null,
   "metadata": {},
   "outputs": [],
   "source": []
  },
  {
   "cell_type": "code",
   "execution_count": null,
   "metadata": {},
   "outputs": [],
   "source": []
  },
  {
   "cell_type": "code",
   "execution_count": null,
   "metadata": {},
   "outputs": [],
   "source": []
  },
  {
   "cell_type": "code",
   "execution_count": null,
   "metadata": {},
   "outputs": [],
   "source": []
  },
  {
   "cell_type": "code",
   "execution_count": 187,
   "metadata": {},
   "outputs": [],
   "source": [
    "data_bg_nb=data2[2100:3000,2100:3000]\n",
    "data_pixel=[]\n",
    "for i in range(len(data_bg_nb)):\n",
    "    for j in range(len(data_bg_nb[0])):\n",
    "        data_pixel.append(data_bg_nb[i][j]) "
   ]
  },
  {
   "cell_type": "code",
   "execution_count": 188,
   "metadata": {},
   "outputs": [
    {
     "name": "stderr",
     "output_type": "stream",
     "text": [
      "WARNING: AstropyDeprecationWarning: \"iters\" was deprecated in version 3.1 and will be removed in a future version. Use argument \"maxiters\" instead. [warnings]\n"
     ]
    }
   ],
   "source": [
    "data_pixel=sigma_clip(data_pixel, sigma=3, iters=10)"
   ]
  },
  {
   "cell_type": "code",
   "execution_count": 189,
   "metadata": {},
   "outputs": [
    {
     "name": "stdout",
     "output_type": "stream",
     "text": [
      "11.352776\n",
      "-0.020935783\n",
      "0.02274742317199707\n"
     ]
    }
   ],
   "source": [
    "pixel_max=data_bg_nb.max()\n",
    "pixel_min=data_bg_nb.min()\n",
    "\n",
    "binwidth=(pixel_max-pixel_min)/500\n",
    "\n",
    "print(pixel_max)\n",
    "print(pixel_min)\n",
    "print(binwidth)"
   ]
  },
  {
   "cell_type": "code",
   "execution_count": 190,
   "metadata": {},
   "outputs": [],
   "source": [
    "pixel_x=np.arange(pixel_min, pixel_max, binwidth)"
   ]
  },
  {
   "cell_type": "code",
   "execution_count": 191,
   "metadata": {},
   "outputs": [],
   "source": [
    "y_pixel=np.histogram(data_pixel, bins=pixel_x)[0]"
   ]
  },
  {
   "cell_type": "code",
   "execution_count": 192,
   "metadata": {},
   "outputs": [
    {
     "name": "stdout",
     "output_type": "stream",
     "text": [
      "500\n"
     ]
    }
   ],
   "source": [
    "yy_pixel=np.histogram(data_pixel, bins=pixel_x)[0]\n",
    "xx_pixel=np.histogram(data_pixel, bins=pixel_x)[1]\n",
    "xx_pixel=list(xx_pixel)\n",
    "del xx_pixel[0]\n",
    "print(len(xx_pixel))"
   ]
  },
  {
   "cell_type": "code",
   "execution_count": 193,
   "metadata": {},
   "outputs": [
    {
     "data": {
      "text/plain": [
       "(-0.05, 0.07)"
      ]
     },
     "execution_count": 193,
     "metadata": {},
     "output_type": "execute_result"
    },
    {
     "data": {
      "image/png": "[encoded data removed]",
      "text/plain": [
       "<Figure size 432x288 with 1 Axes>"
      ]
     },
     "metadata": {
      "needs_background": "light"
     },
     "output_type": "display_data"
    }
   ],
   "source": [
    "fig,ax = plt.subplots()\n",
    "plt.scatter(xx_pixel, yy_pixel, color = 'black', edgecolors='black', marker='o', s=35)\n",
    "\n",
    "ax.set_xlim(-0.05,0.07)\n",
    "\n",
    "#果然是高斯！啊哈哈哈哈！"
   ]
  },
  {
   "cell_type": "code",
   "execution_count": 194,
   "metadata": {},
   "outputs": [],
   "source": [
    "sky_sigma=np.std(data_pixel)"
   ]
  },
  {
   "cell_type": "code",
   "execution_count": 195,
   "metadata": {},
   "outputs": [],
   "source": [
    "lamda_bw=4135\n",
    "lamda_nb=4030\n",
    "delta_bw=1278\n",
    "delta_nb=45"
   ]
  },
  {
   "cell_type": "code",
   "execution_count": 196,
   "metadata": {},
   "outputs": [
    {
     "name": "stdout",
     "output_type": "stream",
     "text": [
      "1.4838626572934928e-17 erg / (cm2 s)\n"
     ]
    }
   ],
   "source": [
    "mag_nb=-2.5*np.log10(sky_sigma)+22.833\n",
    "flux_nu_nb=10**(-(mag_nb+48.6)/2.5)\n",
    "flux_lamda_nb=flux_nu_nb*const.c.to(u.AA/u.second).value/(lamda_nb**2)\n",
    "flux_nb=flux_lamda_nb*delta_nb*u.erg/(u.second*(u.cm**2))\n",
    "sb=flux_nb/0.25/0.25\n",
    "print(sb)"
   ]
  },
  {
   "cell_type": "code",
   "execution_count": null,
   "metadata": {},
   "outputs": [],
   "source": []
  },
  {
   "cell_type": "code",
   "execution_count": null,
   "metadata": {},
   "outputs": [],
   "source": []
  },
  {
   "cell_type": "code",
   "execution_count": 211,
   "metadata": {},
   "outputs": [
    {
     "name": "stdout",
     "output_type": "stream",
     "text": [
      "(array([    0,     1,     2, ..., 57495, 57496, 57497]),)\n"
     ]
    }
   ],
   "source": [
    "print(index_nb)"
   ]
  },
  {
   "cell_type": "code",
   "execution_count": 198,
   "metadata": {},
   "outputs": [],
   "source": [
    "index_nb_exclude=index_nb[0].tolist()"
   ]
  },
  {
   "cell_type": "code",
   "execution_count": 199,
   "metadata": {},
   "outputs": [],
   "source": [
    "no_detection=BOSS_NB.drop(index_nb_exclude).copy()"
   ]
  },
  {
   "cell_type": "code",
   "execution_count": 200,
   "metadata": {},
   "outputs": [],
   "source": [
    "no_detection_candi=no_detection.drop(no_detection[no_detection.ISOAREAF_IMAGE< 15/0.0625].index).copy()"
   ]
  },
  {
   "cell_type": "code",
   "execution_count": 201,
   "metadata": {},
   "outputs": [],
   "source": [
    "no_detection_candi2=no_detection_candi.drop(no_detection_candi[no_detection_candi.standard_mag > 24.3].index).copy()"
   ]
  },
  {
   "cell_type": "code",
   "execution_count": 202,
   "metadata": {},
   "outputs": [],
   "source": [
    "no_detection_candi3=no_detection_candi2.drop(no_detection_candi2[no_detection_candi2.standard_mag<16].index).copy()"
   ]
  },
  {
   "cell_type": "code",
   "execution_count": 203,
   "metadata": {},
   "outputs": [],
   "source": [
    "no_detection_candi4=no_detection_candi3.drop(no_detection_candi3[no_detection_candi3.ISOAREAF_IMAGE>1000].index).copy()"
   ]
  },
  {
   "cell_type": "code",
   "execution_count": 204,
   "metadata": {},
   "outputs": [],
   "source": [
    "no_detection_candi4=no_detection_candi4.reset_index(drop=True)"
   ]
  },
  {
   "cell_type": "code",
   "execution_count": null,
   "metadata": {},
   "outputs": [],
   "source": []
  },
  {
   "cell_type": "code",
   "execution_count": 209,
   "metadata": {},
   "outputs": [
    {
     "name": "stdout",
     "output_type": "stream",
     "text": [
      "Empty DataFrame\n",
      "Columns: [X_IMAGE, Y_IMAGE, ALPHA_J2000, DELTA_J2000, FLUX_APER, FLUXERR_APER, MAG_APER, MAGERR_APER, FLAGS, NITER_MODEL, ISOAREA_IMAGE, ISOAREAF_IMAGE, standard_mag, flux_nb]\n",
      "Index: []\n"
     ]
    }
   ],
   "source": [
    "print(BOSS_NB.drop(index_nb_exclude).copy())"
   ]
  },
  {
   "cell_type": "code",
   "execution_count": 210,
   "metadata": {},
   "outputs": [
    {
     "data": {
      "text/plain": [
       "[0,\n",
       " 1,\n",
       " 2,\n",
       " 3,\n",
       " 4,\n",
       " 5,\n",
       " 6,\n",
       " 7,\n",
       " 8,\n",
       " 9,\n",
       " 10,\n",
       " 11,\n",
       " 12,\n",
       " 13,\n",
       " 14,\n",
       " 15,\n",
       " 16,\n",
       " 17,\n",
       " 18,\n",
       " 19,\n",
       " 20,\n",
       " 21,\n",
       " 22,\n",
       " 23,\n",
       " 24,\n",
       " 25,\n",
       " 26,\n",
       " 27,\n",
       " 28,\n",
       " 29,\n",
       " 30,\n",
       " 31,\n",
       " 32,\n",
       " 33,\n",
       " 34,\n",
       " 35,\n",
       " 36,\n",
       " 37,\n",
       " 38,\n",
       " 39,\n",
       " 40,\n",
       " 41,\n",
       " 42,\n",
       " 43,\n",
       " 44,\n",
       " 45,\n",
       " 46,\n",
       " 47,\n",
       " 48,\n",
       " 49,\n",
       " 50,\n",
       " 51,\n",
       " 52,\n",
       " 53,\n",
       " 54,\n",
       " 55,\n",
       " 56,\n",
       " 57,\n",
       " 58,\n",
       " 59,\n",
       " 60,\n",
       " 61,\n",
       " 62,\n",
       " 63,\n",
       " 64,\n",
       " 65,\n",
       " 66,\n",
       " 67,\n",
       " 68,\n",
       " 69,\n",
       " 70,\n",
       " 71,\n",
       " 72,\n",
       " 73,\n",
       " 74,\n",
       " 75,\n",
       " 76,\n",
       " 77,\n",
       " 78,\n",
       " 79,\n",
       " 80,\n",
       " 81,\n",
       " 82,\n",
       " 83,\n",
       " 84,\n",
       " 85,\n",
       " 86,\n",
       " 87,\n",
       " 88,\n",
       " 89,\n",
       " 90,\n",
       " 91,\n",
       " 92,\n",
       " 93,\n",
       " 94,\n",
       " 95,\n",
       " 96,\n",
       " 97,\n",
       " 98,\n",
       " 99,\n",
       " 100,\n",
       " 101,\n",
       " 102,\n",
       " 103,\n",
       " 104,\n",
       " 105,\n",
       " 106,\n",
       " 107,\n",
       " 108,\n",
       " 109,\n",
       " 110,\n",
       " 111,\n",
       " 112,\n",
       " 113,\n",
       " 114,\n",
       " 115,\n",
       " 116,\n",
       " 117,\n",
       " 118,\n",
       " 119,\n",
       " 120,\n",
       " 121,\n",
       " 122,\n",
       " 123,\n",
       " 124,\n",
       " 125,\n",
       " 126,\n",
       " 127,\n",
       " 128,\n",
       " 129,\n",
       " 130,\n",
       " 131,\n",
       " 132,\n",
       " 133,\n",
       " 134,\n",
       " 135,\n",
       " 136,\n",
       " 137,\n",
       " 138,\n",
       " 139,\n",
       " 140,\n",
       " 141,\n",
       " 142,\n",
       " 143,\n",
       " 144,\n",
       " 145,\n",
       " 146,\n",
       " 147,\n",
       " 148,\n",
       " 149,\n",
       " 150,\n",
       " 151,\n",
       " 152,\n",
       " 153,\n",
       " 154,\n",
       " 155,\n",
       " 156,\n",
       " 157,\n",
       " 158,\n",
       " 159,\n",
       " 160,\n",
       " 161,\n",
       " 162,\n",
       " 163,\n",
       " 164,\n",
       " 165,\n",
       " 166,\n",
       " 167,\n",
       " 168,\n",
       " 169,\n",
       " 170,\n",
       " 171,\n",
       " 172,\n",
       " 173,\n",
       " 174,\n",
       " 175,\n",
       " 176,\n",
       " 177,\n",
       " 178,\n",
       " 179,\n",
       " 180,\n",
       " 181,\n",
       " 182,\n",
       " 183,\n",
       " 184,\n",
       " 185,\n",
       " 186,\n",
       " 187,\n",
       " 188,\n",
       " 189,\n",
       " 190,\n",
       " 191,\n",
       " 192,\n",
       " 193,\n",
       " 194,\n",
       " 195,\n",
       " 196,\n",
       " 197,\n",
       " 198,\n",
       " 199,\n",
       " 200,\n",
       " 201,\n",
       " 202,\n",
       " 203,\n",
       " 204,\n",
       " 205,\n",
       " 206,\n",
       " 207,\n",
       " 208,\n",
       " 209,\n",
       " 210,\n",
       " 211,\n",
       " 212,\n",
       " 213,\n",
       " 214,\n",
       " 215,\n",
       " 216,\n",
       " 217,\n",
       " 218,\n",
       " 219,\n",
       " 220,\n",
       " 221,\n",
       " 222,\n",
       " 223,\n",
       " 224,\n",
       " 225,\n",
       " 226,\n",
       " 227,\n",
       " 228,\n",
       " 229,\n",
       " 230,\n",
       " 231,\n",
       " 232,\n",
       " 233,\n",
       " 234,\n",
       " 235,\n",
       " 236,\n",
       " 237,\n",
       " 238,\n",
       " 239,\n",
       " 240,\n",
       " 241,\n",
       " 242,\n",
       " 243,\n",
       " 244,\n",
       " 245,\n",
       " 246,\n",
       " 247,\n",
       " 248,\n",
       " 249,\n",
       " 250,\n",
       " 251,\n",
       " 252,\n",
       " 253,\n",
       " 254,\n",
       " 255,\n",
       " 256,\n",
       " 257,\n",
       " 258,\n",
       " 259,\n",
       " 260,\n",
       " 261,\n",
       " 262,\n",
       " 263,\n",
       " 264,\n",
       " 265,\n",
       " 266,\n",
       " 267,\n",
       " 268,\n",
       " 269,\n",
       " 270,\n",
       " 271,\n",
       " 272,\n",
       " 273,\n",
       " 274,\n",
       " 275,\n",
       " 276,\n",
       " 277,\n",
       " 278,\n",
       " 279,\n",
       " 280,\n",
       " 281,\n",
       " 282,\n",
       " 283,\n",
       " 284,\n",
       " 285,\n",
       " 286,\n",
       " 287,\n",
       " 288,\n",
       " 289,\n",
       " 290,\n",
       " 291,\n",
       " 292,\n",
       " 293,\n",
       " 294,\n",
       " 295,\n",
       " 296,\n",
       " 297,\n",
       " 298,\n",
       " 299,\n",
       " 300,\n",
       " 301,\n",
       " 302,\n",
       " 303,\n",
       " 304,\n",
       " 305,\n",
       " 306,\n",
       " 307,\n",
       " 308,\n",
       " 309,\n",
       " 310,\n",
       " 311,\n",
       " 312,\n",
       " 313,\n",
       " 314,\n",
       " 315,\n",
       " 316,\n",
       " 317,\n",
       " 318,\n",
       " 319,\n",
       " 320,\n",
       " 321,\n",
       " 322,\n",
       " 323,\n",
       " 324,\n",
       " 325,\n",
       " 326,\n",
       " 327,\n",
       " 328,\n",
       " 329,\n",
       " 330,\n",
       " 331,\n",
       " 332,\n",
       " 333,\n",
       " 334,\n",
       " 335,\n",
       " 336,\n",
       " 337,\n",
       " 338,\n",
       " 339,\n",
       " 340,\n",
       " 341,\n",
       " 342,\n",
       " 343,\n",
       " 344,\n",
       " 345,\n",
       " 346,\n",
       " 347,\n",
       " 348,\n",
       " 349,\n",
       " 350,\n",
       " 351,\n",
       " 352,\n",
       " 353,\n",
       " 354,\n",
       " 355,\n",
       " 356,\n",
       " 357,\n",
       " 358,\n",
       " 359,\n",
       " 360,\n",
       " 361,\n",
       " 362,\n",
       " 363,\n",
       " 364,\n",
       " 365,\n",
       " 366,\n",
       " 367,\n",
       " 368,\n",
       " 369,\n",
       " 370,\n",
       " 371,\n",
       " 372,\n",
       " 373,\n",
       " 374,\n",
       " 375,\n",
       " 376,\n",
       " 377,\n",
       " 378,\n",
       " 379,\n",
       " 380,\n",
       " 381,\n",
       " 382,\n",
       " 383,\n",
       " 384,\n",
       " 385,\n",
       " 386,\n",
       " 387,\n",
       " 388,\n",
       " 389,\n",
       " 390,\n",
       " 391,\n",
       " 392,\n",
       " 393,\n",
       " 394,\n",
       " 395,\n",
       " 396,\n",
       " 397,\n",
       " 398,\n",
       " 399,\n",
       " 400,\n",
       " 401,\n",
       " 402,\n",
       " 403,\n",
       " 404,\n",
       " 405,\n",
       " 406,\n",
       " 407,\n",
       " 408,\n",
       " 409,\n",
       " 410,\n",
       " 411,\n",
       " 412,\n",
       " 413,\n",
       " 414,\n",
       " 415,\n",
       " 416,\n",
       " 417,\n",
       " 418,\n",
       " 419,\n",
       " 420,\n",
       " 421,\n",
       " 422,\n",
       " 423,\n",
       " 424,\n",
       " 425,\n",
       " 426,\n",
       " 427,\n",
       " 428,\n",
       " 429,\n",
       " 430,\n",
       " 431,\n",
       " 432,\n",
       " 433,\n",
       " 434,\n",
       " 435,\n",
       " 436,\n",
       " 437,\n",
       " 438,\n",
       " 439,\n",
       " 440,\n",
       " 441,\n",
       " 442,\n",
       " 443,\n",
       " 444,\n",
       " 445,\n",
       " 446,\n",
       " 447,\n",
       " 448,\n",
       " 449,\n",
       " 450,\n",
       " 451,\n",
       " 452,\n",
       " 453,\n",
       " 454,\n",
       " 455,\n",
       " 456,\n",
       " 457,\n",
       " 458,\n",
       " 459,\n",
       " 460,\n",
       " 461,\n",
       " 462,\n",
       " 463,\n",
       " 464,\n",
       " 465,\n",
       " 466,\n",
       " 467,\n",
       " 468,\n",
       " 469,\n",
       " 470,\n",
       " 471,\n",
       " 472,\n",
       " 473,\n",
       " 474,\n",
       " 475,\n",
       " 476,\n",
       " 477,\n",
       " 478,\n",
       " 479,\n",
       " 480,\n",
       " 481,\n",
       " 482,\n",
       " 483,\n",
       " 484,\n",
       " 485,\n",
       " 486,\n",
       " 487,\n",
       " 488,\n",
       " 489,\n",
       " 490,\n",
       " 491,\n",
       " 492,\n",
       " 493,\n",
       " 494,\n",
       " 495,\n",
       " 496,\n",
       " 497,\n",
       " 498,\n",
       " 499,\n",
       " 500,\n",
       " 501,\n",
       " 502,\n",
       " 503,\n",
       " 504,\n",
       " 505,\n",
       " 506,\n",
       " 507,\n",
       " 508,\n",
       " 509,\n",
       " 510,\n",
       " 511,\n",
       " 512,\n",
       " 513,\n",
       " 514,\n",
       " 515,\n",
       " 516,\n",
       " 517,\n",
       " 518,\n",
       " 519,\n",
       " 520,\n",
       " 521,\n",
       " 522,\n",
       " 523,\n",
       " 524,\n",
       " 525,\n",
       " 526,\n",
       " 527,\n",
       " 528,\n",
       " 529,\n",
       " 530,\n",
       " 531,\n",
       " 532,\n",
       " 533,\n",
       " 534,\n",
       " 535,\n",
       " 536,\n",
       " 537,\n",
       " 538,\n",
       " 539,\n",
       " 540,\n",
       " 541,\n",
       " 542,\n",
       " 543,\n",
       " 544,\n",
       " 545,\n",
       " 546,\n",
       " 547,\n",
       " 548,\n",
       " 549,\n",
       " 550,\n",
       " 551,\n",
       " 552,\n",
       " 553,\n",
       " 554,\n",
       " 555,\n",
       " 556,\n",
       " 557,\n",
       " 558,\n",
       " 559,\n",
       " 560,\n",
       " 561,\n",
       " 562,\n",
       " 563,\n",
       " 564,\n",
       " 565,\n",
       " 566,\n",
       " 567,\n",
       " 568,\n",
       " 569,\n",
       " 570,\n",
       " 571,\n",
       " 572,\n",
       " 573,\n",
       " 574,\n",
       " 575,\n",
       " 576,\n",
       " 577,\n",
       " 578,\n",
       " 579,\n",
       " 580,\n",
       " 581,\n",
       " 582,\n",
       " 583,\n",
       " 584,\n",
       " 585,\n",
       " 586,\n",
       " 587,\n",
       " 588,\n",
       " 589,\n",
       " 590,\n",
       " 591,\n",
       " 592,\n",
       " 593,\n",
       " 594,\n",
       " 595,\n",
       " 596,\n",
       " 597,\n",
       " 598,\n",
       " 599,\n",
       " 600,\n",
       " 601,\n",
       " 602,\n",
       " 603,\n",
       " 604,\n",
       " 605,\n",
       " 606,\n",
       " 607,\n",
       " 608,\n",
       " 609,\n",
       " 610,\n",
       " 611,\n",
       " 612,\n",
       " 613,\n",
       " 614,\n",
       " 615,\n",
       " 616,\n",
       " 617,\n",
       " 618,\n",
       " 619,\n",
       " 620,\n",
       " 621,\n",
       " 622,\n",
       " 623,\n",
       " 624,\n",
       " 625,\n",
       " 626,\n",
       " 627,\n",
       " 628,\n",
       " 629,\n",
       " 630,\n",
       " 631,\n",
       " 632,\n",
       " 633,\n",
       " 634,\n",
       " 635,\n",
       " 636,\n",
       " 637,\n",
       " 638,\n",
       " 639,\n",
       " 640,\n",
       " 641,\n",
       " 642,\n",
       " 643,\n",
       " 644,\n",
       " 645,\n",
       " 646,\n",
       " 647,\n",
       " 648,\n",
       " 649,\n",
       " 650,\n",
       " 651,\n",
       " 652,\n",
       " 653,\n",
       " 654,\n",
       " 655,\n",
       " 656,\n",
       " 657,\n",
       " 658,\n",
       " 659,\n",
       " 660,\n",
       " 661,\n",
       " 662,\n",
       " 663,\n",
       " 664,\n",
       " 665,\n",
       " 666,\n",
       " 667,\n",
       " 668,\n",
       " 669,\n",
       " 670,\n",
       " 671,\n",
       " 672,\n",
       " 673,\n",
       " 674,\n",
       " 675,\n",
       " 676,\n",
       " 677,\n",
       " 678,\n",
       " 679,\n",
       " 680,\n",
       " 681,\n",
       " 682,\n",
       " 683,\n",
       " 684,\n",
       " 685,\n",
       " 686,\n",
       " 687,\n",
       " 688,\n",
       " 689,\n",
       " 690,\n",
       " 691,\n",
       " 692,\n",
       " 693,\n",
       " 694,\n",
       " 695,\n",
       " 696,\n",
       " 697,\n",
       " 698,\n",
       " 699,\n",
       " 700,\n",
       " 701,\n",
       " 702,\n",
       " 703,\n",
       " 704,\n",
       " 705,\n",
       " 706,\n",
       " 707,\n",
       " 708,\n",
       " 709,\n",
       " 710,\n",
       " 711,\n",
       " 712,\n",
       " 713,\n",
       " 714,\n",
       " 715,\n",
       " 716,\n",
       " 717,\n",
       " 718,\n",
       " 719,\n",
       " 720,\n",
       " 721,\n",
       " 722,\n",
       " 723,\n",
       " 724,\n",
       " 725,\n",
       " 726,\n",
       " 727,\n",
       " 728,\n",
       " 729,\n",
       " 730,\n",
       " 731,\n",
       " 732,\n",
       " 733,\n",
       " 734,\n",
       " 735,\n",
       " 736,\n",
       " 737,\n",
       " 738,\n",
       " 739,\n",
       " 740,\n",
       " 741,\n",
       " 742,\n",
       " 743,\n",
       " 744,\n",
       " 745,\n",
       " 746,\n",
       " 747,\n",
       " 748,\n",
       " 749,\n",
       " 750,\n",
       " 751,\n",
       " 752,\n",
       " 753,\n",
       " 754,\n",
       " 755,\n",
       " 756,\n",
       " 757,\n",
       " 758,\n",
       " 759,\n",
       " 760,\n",
       " 761,\n",
       " 762,\n",
       " 763,\n",
       " 764,\n",
       " 765,\n",
       " 766,\n",
       " 767,\n",
       " 768,\n",
       " 769,\n",
       " 770,\n",
       " 771,\n",
       " 772,\n",
       " 773,\n",
       " 774,\n",
       " 775,\n",
       " 776,\n",
       " 777,\n",
       " 778,\n",
       " 779,\n",
       " 780,\n",
       " 781,\n",
       " 782,\n",
       " 783,\n",
       " 784,\n",
       " 785,\n",
       " 786,\n",
       " 787,\n",
       " 788,\n",
       " 789,\n",
       " 790,\n",
       " 791,\n",
       " 792,\n",
       " 793,\n",
       " 794,\n",
       " 795,\n",
       " 796,\n",
       " 797,\n",
       " 798,\n",
       " 799,\n",
       " 800,\n",
       " 801,\n",
       " 802,\n",
       " 803,\n",
       " 804,\n",
       " 805,\n",
       " 806,\n",
       " 807,\n",
       " 808,\n",
       " 809,\n",
       " 810,\n",
       " 811,\n",
       " 812,\n",
       " 813,\n",
       " 814,\n",
       " 815,\n",
       " 816,\n",
       " 817,\n",
       " 818,\n",
       " 819,\n",
       " 820,\n",
       " 821,\n",
       " 822,\n",
       " 823,\n",
       " 824,\n",
       " 825,\n",
       " 826,\n",
       " 827,\n",
       " 828,\n",
       " 829,\n",
       " 830,\n",
       " 831,\n",
       " 832,\n",
       " 833,\n",
       " 834,\n",
       " 835,\n",
       " 836,\n",
       " 837,\n",
       " 838,\n",
       " 839,\n",
       " 840,\n",
       " 841,\n",
       " 842,\n",
       " 843,\n",
       " 844,\n",
       " 845,\n",
       " 846,\n",
       " 847,\n",
       " 848,\n",
       " 849,\n",
       " 850,\n",
       " 851,\n",
       " 852,\n",
       " 853,\n",
       " 854,\n",
       " 855,\n",
       " 856,\n",
       " 857,\n",
       " 858,\n",
       " 859,\n",
       " 860,\n",
       " 861,\n",
       " 862,\n",
       " 863,\n",
       " 864,\n",
       " 865,\n",
       " 866,\n",
       " 867,\n",
       " 868,\n",
       " 869,\n",
       " 870,\n",
       " 871,\n",
       " 872,\n",
       " 873,\n",
       " 874,\n",
       " 875,\n",
       " 876,\n",
       " 877,\n",
       " 878,\n",
       " 879,\n",
       " 880,\n",
       " 881,\n",
       " 882,\n",
       " 883,\n",
       " 884,\n",
       " 885,\n",
       " 886,\n",
       " 887,\n",
       " 888,\n",
       " 889,\n",
       " 890,\n",
       " 891,\n",
       " 892,\n",
       " 893,\n",
       " 894,\n",
       " 895,\n",
       " 896,\n",
       " 897,\n",
       " 898,\n",
       " 899,\n",
       " 900,\n",
       " 901,\n",
       " 902,\n",
       " 903,\n",
       " 904,\n",
       " 905,\n",
       " 906,\n",
       " 907,\n",
       " 908,\n",
       " 909,\n",
       " 910,\n",
       " 911,\n",
       " 912,\n",
       " 913,\n",
       " 914,\n",
       " 915,\n",
       " 916,\n",
       " 917,\n",
       " 918,\n",
       " 919,\n",
       " 920,\n",
       " 921,\n",
       " 922,\n",
       " 923,\n",
       " 924,\n",
       " 925,\n",
       " 926,\n",
       " 927,\n",
       " 928,\n",
       " 929,\n",
       " 930,\n",
       " 931,\n",
       " 932,\n",
       " 933,\n",
       " 934,\n",
       " 935,\n",
       " 936,\n",
       " 937,\n",
       " 938,\n",
       " 939,\n",
       " 940,\n",
       " 941,\n",
       " 942,\n",
       " 943,\n",
       " 944,\n",
       " 945,\n",
       " 946,\n",
       " 947,\n",
       " 948,\n",
       " 949,\n",
       " 950,\n",
       " 951,\n",
       " 952,\n",
       " 953,\n",
       " 954,\n",
       " 955,\n",
       " 956,\n",
       " 957,\n",
       " 958,\n",
       " 959,\n",
       " 960,\n",
       " 961,\n",
       " 962,\n",
       " 963,\n",
       " 964,\n",
       " 965,\n",
       " 966,\n",
       " 967,\n",
       " 968,\n",
       " 969,\n",
       " 970,\n",
       " 971,\n",
       " 972,\n",
       " 973,\n",
       " 974,\n",
       " 975,\n",
       " 976,\n",
       " 977,\n",
       " 978,\n",
       " 979,\n",
       " 980,\n",
       " 981,\n",
       " 982,\n",
       " 983,\n",
       " 984,\n",
       " 985,\n",
       " 986,\n",
       " 987,\n",
       " 988,\n",
       " 989,\n",
       " 990,\n",
       " 991,\n",
       " 992,\n",
       " 993,\n",
       " 994,\n",
       " 995,\n",
       " 996,\n",
       " 997,\n",
       " 998,\n",
       " 999,\n",
       " ...]"
      ]
     },
     "execution_count": 210,
     "metadata": {},
     "output_type": "execute_result"
    }
   ],
   "source": [
    "index_nb_exclude"
   ]
  },
  {
   "cell_type": "code",
   "execution_count": null,
   "metadata": {},
   "outputs": [],
   "source": []
  }
 ],
 "metadata": {
  "kernelspec": {
   "display_name": "Python 3",
   "language": "python",
   "name": "python3"
  },
  "language_info": {
   "codemirror_mode": {
    "name": "ipython",
    "version": 3
   },
   "file_extension": ".py",
   "mimetype": "text/x-python",
   "name": "python",
   "nbconvert_exporter": "python",
   "pygments_lexer": "ipython3",
   "version": "3.7.3"
  }
 },
 "nbformat": 4,
 "nbformat_minor": 2
}
