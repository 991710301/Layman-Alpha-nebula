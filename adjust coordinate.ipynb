{
 "cells": [
  {
   "cell_type": "code",
   "execution_count": null,
   "metadata": {},
   "outputs": [],
   "source": [
    "import csv\n",
    "import re\n",
    "import pandas as pd\n",
    "import numpy as np\n",
    "import astropy.units as u\n",
    "import matplotlib.pyplot as plt\n",
    "from astropy.coordinates import SkyCoord\n",
    "from astropy.coordinates import Angle\n",
    "from astropy.stats import sigma_clip\n",
    "from astropy.io import fits\n",
    "from astropy.nddata import Cutout2D\n",
    "from astropy.wcs import WCS\n",
    "import matplotlib.cm as cm\n",
    "import scipy.misc"
   ]
  },
  {
   "cell_type": "code",
   "execution_count": null,
   "metadata": {},
   "outputs": [],
   "source": [
    "w1=WCS('BOSS2239_Bw_cut.fits')\n",
    "x1,y1= w1.all_world2pix(340,19.5,1)#全部转成天球坐标表示\n",
    "\n",
    "w2=WCS('BOSS2239_NB_01_cut.fits')\n",
    "x2,y2= w2.all_world2pix(340,19.5,1)#全部转成天球坐标表示\n",
    "\n",
    "x1=round(float(str(x1)))\n",
    "y1=round(float(str(y1)))\n",
    "x2=round(float(str(x2)))\n",
    "y2=round(float(str(y2)))\n",
    "\n",
    "deltax=x1-x2\n",
    "deltay=y1-y2\n",
    "\n",
    "print(deltax,deltay)"
   ]
  }
 ],
 "metadata": {
  "kernelspec": {
   "display_name": "Python 3",
   "language": "python",
   "name": "python3"
  },
  "language_info": {
   "codemirror_mode": {
    "name": "ipython",
    "version": 3
   },
   "file_extension": ".py",
   "mimetype": "text/x-python",
   "name": "python",
   "nbconvert_exporter": "python",
   "pygments_lexer": "ipython3",
   "version": "3.7.3"
  }
 },
 "nbformat": 4,
 "nbformat_minor": 2
}
